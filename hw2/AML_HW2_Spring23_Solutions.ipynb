{
 "cells": [
  {
   "cell_type": "markdown",
   "metadata": {
    "id": "PGK51ENiWK8u"
   },
   "source": [
    "# Homework 2: Trees and Calibration\n",
    "\n",
    "\n",
    "## Instructions\n",
    "\n",
    "Please push the .ipynb, .py, and .pdf to Github Classroom prior to the deadline. Please include your UNI as well.\n",
    "\n",
    "**Make sure to use the dataset that we provide in CourseWorks/Classroom.**\n",
    "\n",
    "**There are a lot of applied questions based on the code results. Please make sure to answer them all. These are primarily to test your understanding of the results your code generate (similar to any Data Science/ML case study interviews).**\n"
   ]
  },
  {
   "cell_type": "markdown",
   "metadata": {
    "id": "IMh1gfa1WQ-s"
   },
   "source": [
    "\n",
    "```\n",
    "# This is formatted as code\n",
    "```\n",
    "\n",
    "## Name: \n",
    "\n",
    "## UNI: "
   ]
  },
  {
   "cell_type": "markdown",
   "metadata": {
    "id": "h-WA9tIaWVo2"
   },
   "source": [
    "## The Dataset\n",
    "\n",
    "\n",
    "### Description\n",
    "\n",
    "This data set contains details of ecommerce product shipment tracking and the target variable is a binary variable reflecting the fact whether the product reached on time or not."
   ]
  },
  {
   "cell_type": "code",
   "execution_count": 3,
   "metadata": {
    "id": "ohzV1r4eWW7Y"
   },
   "outputs": [],
   "source": [
    "import numpy as np\n",
    "import pandas as pd\n",
    "import matplotlib.pyplot as plt\n",
    "import seaborn as sns\n",
    "import time\n",
    "\n",
    "from sklearn.ensemble import GradientBoostingClassifier, HistGradientBoostingClassifier\n",
    "from xgboost import XGBClassifier\n",
    "from sklearn.ensemble import RandomForestClassifier\n",
    "\n",
    "from sklearn.calibration import CalibrationDisplay, CalibratedClassifierCV\n",
    "from sklearn.isotonic import IsotonicRegression\n",
    "from sklearn.tree import DecisionTreeClassifier\n",
    "from sklearn.pipeline import make_pipeline\n",
    "\n",
    "from sklearn.metrics import accuracy_score, brier_score_loss\n",
    "from sklearn.metrics import classification_report, f1_score\n",
    "from sklearn.metrics import precision_recall_fscore_support\n",
    "\n",
    "from sklearn.model_selection import StratifiedKFold\n",
    "from sklearn.model_selection import train_test_split\n",
    "from sklearn.model_selection import cross_val_score, GridSearchCV\n",
    "\n",
    "from sklearn.preprocessing import OneHotEncoder\n",
    "from sklearn.model_selection import ParameterGrid\n"
   ]
  },
  {
   "cell_type": "markdown",
   "metadata": {
    "id": "x9xC14h3WcKC"
   },
   "source": [
    "## Question 1: Decision Trees"
   ]
  },
  {
   "cell_type": "markdown",
   "metadata": {
    "id": "3tGQU8PdWgIe"
   },
   "source": [
    "**1.1: Load the provided dataset**"
   ]
  },
  {
   "cell_type": "code",
   "execution_count": 4,
   "metadata": {
    "colab": {
     "base_uri": "https://localhost:8080/",
     "height": 270
    },
    "id": "-6w9ol6nWhYx",
    "outputId": "6187d74e-d3e4-45d1-a3ec-22a562eb3631"
   },
   "outputs": [
    {
     "data": {
      "text/html": [
       "\n",
       "  <div id=\"df-6029ce28-53c0-487a-a370-c29703bda4f7\">\n",
       "    <div class=\"colab-df-container\">\n",
       "      <div>\n",
       "<style scoped>\n",
       "    .dataframe tbody tr th:only-of-type {\n",
       "        vertical-align: middle;\n",
       "    }\n",
       "\n",
       "    .dataframe tbody tr th {\n",
       "        vertical-align: top;\n",
       "    }\n",
       "\n",
       "    .dataframe thead th {\n",
       "        text-align: right;\n",
       "    }\n",
       "</style>\n",
       "<table border=\"1\" class=\"dataframe\">\n",
       "  <thead>\n",
       "    <tr style=\"text-align: right;\">\n",
       "      <th></th>\n",
       "      <th>ID</th>\n",
       "      <th>Warehouse_block</th>\n",
       "      <th>Mode_of_Shipment</th>\n",
       "      <th>Customer_care_calls</th>\n",
       "      <th>Customer_rating</th>\n",
       "      <th>Cost_of_the_Product</th>\n",
       "      <th>Prior_purchases</th>\n",
       "      <th>Product_importance</th>\n",
       "      <th>Gender</th>\n",
       "      <th>Discount_offered</th>\n",
       "      <th>Weight_in_gms</th>\n",
       "      <th>Reached_On_Time</th>\n",
       "    </tr>\n",
       "  </thead>\n",
       "  <tbody>\n",
       "    <tr>\n",
       "      <th>0</th>\n",
       "      <td>1</td>\n",
       "      <td>D</td>\n",
       "      <td>Flight</td>\n",
       "      <td>4</td>\n",
       "      <td>2</td>\n",
       "      <td>177</td>\n",
       "      <td>3</td>\n",
       "      <td>low</td>\n",
       "      <td>F</td>\n",
       "      <td>44</td>\n",
       "      <td>1233</td>\n",
       "      <td>1</td>\n",
       "    </tr>\n",
       "    <tr>\n",
       "      <th>1</th>\n",
       "      <td>2</td>\n",
       "      <td>F</td>\n",
       "      <td>Flight</td>\n",
       "      <td>4</td>\n",
       "      <td>5</td>\n",
       "      <td>216</td>\n",
       "      <td>2</td>\n",
       "      <td>low</td>\n",
       "      <td>M</td>\n",
       "      <td>59</td>\n",
       "      <td>3088</td>\n",
       "      <td>1</td>\n",
       "    </tr>\n",
       "    <tr>\n",
       "      <th>2</th>\n",
       "      <td>3</td>\n",
       "      <td>A</td>\n",
       "      <td>Flight</td>\n",
       "      <td>2</td>\n",
       "      <td>2</td>\n",
       "      <td>183</td>\n",
       "      <td>4</td>\n",
       "      <td>low</td>\n",
       "      <td>M</td>\n",
       "      <td>48</td>\n",
       "      <td>3374</td>\n",
       "      <td>1</td>\n",
       "    </tr>\n",
       "    <tr>\n",
       "      <th>3</th>\n",
       "      <td>4</td>\n",
       "      <td>B</td>\n",
       "      <td>Flight</td>\n",
       "      <td>3</td>\n",
       "      <td>3</td>\n",
       "      <td>176</td>\n",
       "      <td>4</td>\n",
       "      <td>medium</td>\n",
       "      <td>M</td>\n",
       "      <td>10</td>\n",
       "      <td>1177</td>\n",
       "      <td>1</td>\n",
       "    </tr>\n",
       "    <tr>\n",
       "      <th>4</th>\n",
       "      <td>5</td>\n",
       "      <td>C</td>\n",
       "      <td>Flight</td>\n",
       "      <td>2</td>\n",
       "      <td>2</td>\n",
       "      <td>184</td>\n",
       "      <td>3</td>\n",
       "      <td>medium</td>\n",
       "      <td>F</td>\n",
       "      <td>46</td>\n",
       "      <td>2484</td>\n",
       "      <td>1</td>\n",
       "    </tr>\n",
       "  </tbody>\n",
       "</table>\n",
       "</div>\n",
       "      <button class=\"colab-df-convert\" onclick=\"convertToInteractive('df-6029ce28-53c0-487a-a370-c29703bda4f7')\"\n",
       "              title=\"Convert this dataframe to an interactive table.\"\n",
       "              style=\"display:none;\">\n",
       "        \n",
       "  <svg xmlns=\"http://www.w3.org/2000/svg\" height=\"24px\"viewBox=\"0 0 24 24\"\n",
       "       width=\"24px\">\n",
       "    <path d=\"M0 0h24v24H0V0z\" fill=\"none\"/>\n",
       "    <path d=\"M18.56 5.44l.94 2.06.94-2.06 2.06-.94-2.06-.94-.94-2.06-.94 2.06-2.06.94zm-11 1L8.5 8.5l.94-2.06 2.06-.94-2.06-.94L8.5 2.5l-.94 2.06-2.06.94zm10 10l.94 2.06.94-2.06 2.06-.94-2.06-.94-.94-2.06-.94 2.06-2.06.94z\"/><path d=\"M17.41 7.96l-1.37-1.37c-.4-.4-.92-.59-1.43-.59-.52 0-1.04.2-1.43.59L10.3 9.45l-7.72 7.72c-.78.78-.78 2.05 0 2.83L4 21.41c.39.39.9.59 1.41.59.51 0 1.02-.2 1.41-.59l7.78-7.78 2.81-2.81c.8-.78.8-2.07 0-2.86zM5.41 20L4 18.59l7.72-7.72 1.47 1.35L5.41 20z\"/>\n",
       "  </svg>\n",
       "      </button>\n",
       "      \n",
       "  <style>\n",
       "    .colab-df-container {\n",
       "      display:flex;\n",
       "      flex-wrap:wrap;\n",
       "      gap: 12px;\n",
       "    }\n",
       "\n",
       "    .colab-df-convert {\n",
       "      background-color: #E8F0FE;\n",
       "      border: none;\n",
       "      border-radius: 50%;\n",
       "      cursor: pointer;\n",
       "      display: none;\n",
       "      fill: #1967D2;\n",
       "      height: 32px;\n",
       "      padding: 0 0 0 0;\n",
       "      width: 32px;\n",
       "    }\n",
       "\n",
       "    .colab-df-convert:hover {\n",
       "      background-color: #E2EBFA;\n",
       "      box-shadow: 0px 1px 2px rgba(60, 64, 67, 0.3), 0px 1px 3px 1px rgba(60, 64, 67, 0.15);\n",
       "      fill: #174EA6;\n",
       "    }\n",
       "\n",
       "    [theme=dark] .colab-df-convert {\n",
       "      background-color: #3B4455;\n",
       "      fill: #D2E3FC;\n",
       "    }\n",
       "\n",
       "    [theme=dark] .colab-df-convert:hover {\n",
       "      background-color: #434B5C;\n",
       "      box-shadow: 0px 1px 3px 1px rgba(0, 0, 0, 0.15);\n",
       "      filter: drop-shadow(0px 1px 2px rgba(0, 0, 0, 0.3));\n",
       "      fill: #FFFFFF;\n",
       "    }\n",
       "  </style>\n",
       "\n",
       "      <script>\n",
       "        const buttonEl =\n",
       "          document.querySelector('#df-6029ce28-53c0-487a-a370-c29703bda4f7 button.colab-df-convert');\n",
       "        buttonEl.style.display =\n",
       "          google.colab.kernel.accessAllowed ? 'block' : 'none';\n",
       "\n",
       "        async function convertToInteractive(key) {\n",
       "          const element = document.querySelector('#df-6029ce28-53c0-487a-a370-c29703bda4f7');\n",
       "          const dataTable =\n",
       "            await google.colab.kernel.invokeFunction('convertToInteractive',\n",
       "                                                     [key], {});\n",
       "          if (!dataTable) return;\n",
       "\n",
       "          const docLinkHtml = 'Like what you see? Visit the ' +\n",
       "            '<a target=\"_blank\" href=https://colab.research.google.com/notebooks/data_table.ipynb>data table notebook</a>'\n",
       "            + ' to learn more about interactive tables.';\n",
       "          element.innerHTML = '';\n",
       "          dataTable['output_type'] = 'display_data';\n",
       "          await google.colab.output.renderOutput(dataTable, element);\n",
       "          const docLink = document.createElement('div');\n",
       "          docLink.innerHTML = docLinkHtml;\n",
       "          element.appendChild(docLink);\n",
       "        }\n",
       "      </script>\n",
       "    </div>\n",
       "  </div>\n",
       "  "
      ],
      "text/plain": [
       "   ID Warehouse_block Mode_of_Shipment  Customer_care_calls  Customer_rating  \\\n",
       "0   1               D           Flight                    4                2   \n",
       "1   2               F           Flight                    4                5   \n",
       "2   3               A           Flight                    2                2   \n",
       "3   4               B           Flight                    3                3   \n",
       "4   5               C           Flight                    2                2   \n",
       "\n",
       "   Cost_of_the_Product  Prior_purchases Product_importance Gender  \\\n",
       "0                  177                3                low      F   \n",
       "1                  216                2                low      M   \n",
       "2                  183                4                low      M   \n",
       "3                  176                4             medium      M   \n",
       "4                  184                3             medium      F   \n",
       "\n",
       "   Discount_offered  Weight_in_gms  Reached_On_Time  \n",
       "0                44           1233                1  \n",
       "1                59           3088                1  \n",
       "2                48           3374                1  \n",
       "3                10           1177                1  \n",
       "4                46           2484                1  "
      ]
     },
     "execution_count": 4,
     "metadata": {},
     "output_type": "execute_result"
    }
   ],
   "source": [
    "pdDf = pd.read_csv('data.csv')\n",
    "pdDf.head()"
   ]
  },
  {
   "cell_type": "markdown",
   "metadata": {
    "id": "7b1FzZArWqp5"
   },
   "source": [
    "**1.2: Are there any missing values in the dataset?**"
   ]
  },
  {
   "cell_type": "code",
   "execution_count": 5,
   "metadata": {
    "colab": {
     "base_uri": "https://localhost:8080/",
     "height": 425
    },
    "id": "MqIBRHOvWry2",
    "outputId": "2ab406ce-8abd-43b8-f977-19a910829d3c"
   },
   "outputs": [
    {
     "data": {
      "text/html": [
       "\n",
       "  <div id=\"df-9b306e45-08ac-4794-9212-9156e123a9bd\">\n",
       "    <div class=\"colab-df-container\">\n",
       "      <div>\n",
       "<style scoped>\n",
       "    .dataframe tbody tr th:only-of-type {\n",
       "        vertical-align: middle;\n",
       "    }\n",
       "\n",
       "    .dataframe tbody tr th {\n",
       "        vertical-align: top;\n",
       "    }\n",
       "\n",
       "    .dataframe thead th {\n",
       "        text-align: right;\n",
       "    }\n",
       "</style>\n",
       "<table border=\"1\" class=\"dataframe\">\n",
       "  <thead>\n",
       "    <tr style=\"text-align: right;\">\n",
       "      <th></th>\n",
       "      <th>index</th>\n",
       "      <th>Total</th>\n",
       "      <th>%</th>\n",
       "    </tr>\n",
       "  </thead>\n",
       "  <tbody>\n",
       "    <tr>\n",
       "      <th>0</th>\n",
       "      <td>ID</td>\n",
       "      <td>0</td>\n",
       "      <td>0.0</td>\n",
       "    </tr>\n",
       "    <tr>\n",
       "      <th>1</th>\n",
       "      <td>Warehouse_block</td>\n",
       "      <td>0</td>\n",
       "      <td>0.0</td>\n",
       "    </tr>\n",
       "    <tr>\n",
       "      <th>2</th>\n",
       "      <td>Mode_of_Shipment</td>\n",
       "      <td>0</td>\n",
       "      <td>0.0</td>\n",
       "    </tr>\n",
       "    <tr>\n",
       "      <th>3</th>\n",
       "      <td>Customer_care_calls</td>\n",
       "      <td>0</td>\n",
       "      <td>0.0</td>\n",
       "    </tr>\n",
       "    <tr>\n",
       "      <th>4</th>\n",
       "      <td>Customer_rating</td>\n",
       "      <td>0</td>\n",
       "      <td>0.0</td>\n",
       "    </tr>\n",
       "    <tr>\n",
       "      <th>5</th>\n",
       "      <td>Cost_of_the_Product</td>\n",
       "      <td>0</td>\n",
       "      <td>0.0</td>\n",
       "    </tr>\n",
       "    <tr>\n",
       "      <th>6</th>\n",
       "      <td>Prior_purchases</td>\n",
       "      <td>0</td>\n",
       "      <td>0.0</td>\n",
       "    </tr>\n",
       "    <tr>\n",
       "      <th>7</th>\n",
       "      <td>Product_importance</td>\n",
       "      <td>0</td>\n",
       "      <td>0.0</td>\n",
       "    </tr>\n",
       "    <tr>\n",
       "      <th>8</th>\n",
       "      <td>Gender</td>\n",
       "      <td>0</td>\n",
       "      <td>0.0</td>\n",
       "    </tr>\n",
       "    <tr>\n",
       "      <th>9</th>\n",
       "      <td>Discount_offered</td>\n",
       "      <td>0</td>\n",
       "      <td>0.0</td>\n",
       "    </tr>\n",
       "    <tr>\n",
       "      <th>10</th>\n",
       "      <td>Weight_in_gms</td>\n",
       "      <td>0</td>\n",
       "      <td>0.0</td>\n",
       "    </tr>\n",
       "    <tr>\n",
       "      <th>11</th>\n",
       "      <td>Reached_On_Time</td>\n",
       "      <td>0</td>\n",
       "      <td>0.0</td>\n",
       "    </tr>\n",
       "  </tbody>\n",
       "</table>\n",
       "</div>\n",
       "      <button class=\"colab-df-convert\" onclick=\"convertToInteractive('df-9b306e45-08ac-4794-9212-9156e123a9bd')\"\n",
       "              title=\"Convert this dataframe to an interactive table.\"\n",
       "              style=\"display:none;\">\n",
       "        \n",
       "  <svg xmlns=\"http://www.w3.org/2000/svg\" height=\"24px\"viewBox=\"0 0 24 24\"\n",
       "       width=\"24px\">\n",
       "    <path d=\"M0 0h24v24H0V0z\" fill=\"none\"/>\n",
       "    <path d=\"M18.56 5.44l.94 2.06.94-2.06 2.06-.94-2.06-.94-.94-2.06-.94 2.06-2.06.94zm-11 1L8.5 8.5l.94-2.06 2.06-.94-2.06-.94L8.5 2.5l-.94 2.06-2.06.94zm10 10l.94 2.06.94-2.06 2.06-.94-2.06-.94-.94-2.06-.94 2.06-2.06.94z\"/><path d=\"M17.41 7.96l-1.37-1.37c-.4-.4-.92-.59-1.43-.59-.52 0-1.04.2-1.43.59L10.3 9.45l-7.72 7.72c-.78.78-.78 2.05 0 2.83L4 21.41c.39.39.9.59 1.41.59.51 0 1.02-.2 1.41-.59l7.78-7.78 2.81-2.81c.8-.78.8-2.07 0-2.86zM5.41 20L4 18.59l7.72-7.72 1.47 1.35L5.41 20z\"/>\n",
       "  </svg>\n",
       "      </button>\n",
       "      \n",
       "  <style>\n",
       "    .colab-df-container {\n",
       "      display:flex;\n",
       "      flex-wrap:wrap;\n",
       "      gap: 12px;\n",
       "    }\n",
       "\n",
       "    .colab-df-convert {\n",
       "      background-color: #E8F0FE;\n",
       "      border: none;\n",
       "      border-radius: 50%;\n",
       "      cursor: pointer;\n",
       "      display: none;\n",
       "      fill: #1967D2;\n",
       "      height: 32px;\n",
       "      padding: 0 0 0 0;\n",
       "      width: 32px;\n",
       "    }\n",
       "\n",
       "    .colab-df-convert:hover {\n",
       "      background-color: #E2EBFA;\n",
       "      box-shadow: 0px 1px 2px rgba(60, 64, 67, 0.3), 0px 1px 3px 1px rgba(60, 64, 67, 0.15);\n",
       "      fill: #174EA6;\n",
       "    }\n",
       "\n",
       "    [theme=dark] .colab-df-convert {\n",
       "      background-color: #3B4455;\n",
       "      fill: #D2E3FC;\n",
       "    }\n",
       "\n",
       "    [theme=dark] .colab-df-convert:hover {\n",
       "      background-color: #434B5C;\n",
       "      box-shadow: 0px 1px 3px 1px rgba(0, 0, 0, 0.15);\n",
       "      filter: drop-shadow(0px 1px 2px rgba(0, 0, 0, 0.3));\n",
       "      fill: #FFFFFF;\n",
       "    }\n",
       "  </style>\n",
       "\n",
       "      <script>\n",
       "        const buttonEl =\n",
       "          document.querySelector('#df-9b306e45-08ac-4794-9212-9156e123a9bd button.colab-df-convert');\n",
       "        buttonEl.style.display =\n",
       "          google.colab.kernel.accessAllowed ? 'block' : 'none';\n",
       "\n",
       "        async function convertToInteractive(key) {\n",
       "          const element = document.querySelector('#df-9b306e45-08ac-4794-9212-9156e123a9bd');\n",
       "          const dataTable =\n",
       "            await google.colab.kernel.invokeFunction('convertToInteractive',\n",
       "                                                     [key], {});\n",
       "          if (!dataTable) return;\n",
       "\n",
       "          const docLinkHtml = 'Like what you see? Visit the ' +\n",
       "            '<a target=\"_blank\" href=https://colab.research.google.com/notebooks/data_table.ipynb>data table notebook</a>'\n",
       "            + ' to learn more about interactive tables.';\n",
       "          element.innerHTML = '';\n",
       "          dataTable['output_type'] = 'display_data';\n",
       "          await google.colab.output.renderOutput(dataTable, element);\n",
       "          const docLink = document.createElement('div');\n",
       "          docLink.innerHTML = docLinkHtml;\n",
       "          element.appendChild(docLink);\n",
       "        }\n",
       "      </script>\n",
       "    </div>\n",
       "  </div>\n",
       "  "
      ],
      "text/plain": [
       "                  index  Total    %\n",
       "0                    ID      0  0.0\n",
       "1       Warehouse_block      0  0.0\n",
       "2      Mode_of_Shipment      0  0.0\n",
       "3   Customer_care_calls      0  0.0\n",
       "4       Customer_rating      0  0.0\n",
       "5   Cost_of_the_Product      0  0.0\n",
       "6       Prior_purchases      0  0.0\n",
       "7    Product_importance      0  0.0\n",
       "8                Gender      0  0.0\n",
       "9      Discount_offered      0  0.0\n",
       "10        Weight_in_gms      0  0.0\n",
       "11      Reached_On_Time      0  0.0"
      ]
     },
     "execution_count": 5,
     "metadata": {},
     "output_type": "execute_result"
    }
   ],
   "source": [
    "total = pdDf.isnull().sum().sort_values(ascending=False)\n",
    "percent_1 = pdDf.isnull().sum()/pdDf.isnull().count()*100\n",
    "percent_2 = (np.round(percent_1, 1)).sort_values(ascending=False)\n",
    "missing_data = pd.concat([total, percent_2], axis=1, keys=['Total', '%'])\n",
    "missing_data  = missing_data.reset_index()\n",
    "missing_data"
   ]
  },
  {
   "cell_type": "markdown",
   "metadata": {
    "id": "YTiDRE_QWwrZ"
   },
   "source": [
    "**1.3: Plot side-by-side bars of class distribtuion for each category for the categorical feature and the target categories.**\n",
    "\n",
    "**Clarification with Example below : Here `flWinner` is the Target Variable and `descMapName` is a categorical feature. You are required to make such side-by-side bar plot for each categorical feature with repect to it's class distribution with the target feature for our dataset.**\n",
    "\n",
    "![download.png](data:image/png;base64,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)"
   ]
  },
  {
   "cell_type": "code",
   "execution_count": 6,
   "metadata": {
    "colab": {
     "base_uri": "https://localhost:8080/",
     "height": 1000
    },
    "id": "8Sn-OCj_Wx2A",
    "outputId": "5c07bf0d-3a51-4e05-d0f6-314b49b951c1"
   },
   "outputs": [
    {
     "data": {
      "image/png": "[encoded data removed]",
      "text/plain": [
       "<Figure size 432x288 with 1 Axes>"
      ]
     },
     "metadata": {
      "needs_background": "light"
     },
     "output_type": "display_data"
    },
    {
     "data": {
      "image/png": "[encoded data removed]",
      "text/plain": [
       "<Figure size 432x288 with 1 Axes>"
      ]
     },
     "metadata": {
      "needs_background": "light"
     },
     "output_type": "display_data"
    },
    {
     "data": {
      "image/png": "[encoded data removed]",
      "text/plain": [
       "<Figure size 432x288 with 1 Axes>"
      ]
     },
     "metadata": {
      "needs_background": "light"
     },
     "output_type": "display_data"
    },
    {
     "data": {
      "image/png": "[encoded data removed]",
      "text/plain": [
       "<Figure size 432x288 with 1 Axes>"
      ]
     },
     "metadata": {
      "needs_background": "light"
     },
     "output_type": "display_data"
    }
   ],
   "source": [
    "categorical_features = [\"Warehouse_block\", \"Mode_of_Shipment\", \"Product_importance\", \"Gender\"]\n",
    "\n",
    "for i in range(len(categorical_features)):\n",
    "    sns.countplot(data = pdDf, x = categorical_features[i], hue = \"Reached_On_Time\")\n",
    "    plt.xticks(rotation=90)\n",
    "    plt.show()\n"
   ]
  },
  {
   "cell_type": "markdown",
   "metadata": {
    "id": "6noNR9-bONiH"
   },
   "source": [
    "**1.4: Explain the distribution of the target variable and the dataset.**\n"
   ]
  },
  {
   "cell_type": "markdown",
   "metadata": {
    "id": "3QzadqBMMRLn"
   },
   "source": [
    "We observe that the data is skewed and the split is 40-60% for class 0 and 1. \n"
   ]
  },
  {
   "cell_type": "code",
   "execution_count": 6,
   "metadata": {
    "id": "_L3Lm2JjNTPy"
   },
   "outputs": [],
   "source": []
  },
  {
   "cell_type": "code",
   "execution_count": 7,
   "metadata": {
    "colab": {
     "base_uri": "https://localhost:8080/",
     "height": 264
    },
    "id": "mhMP_6eIXEtM",
    "outputId": "3050ec90-4ee0-40ae-f95c-eba857387c21"
   },
   "outputs": [
    {
     "data": {
      "image/png": "[encoded data removed]",
      "text/plain": [
       "<Figure size 432x288 with 1 Axes>"
      ]
     },
     "metadata": {},
     "output_type": "display_data"
    }
   ],
   "source": [
    "pdDf[\"Reached_On_Time\"].value_counts().plot(kind = \"pie\")\n",
    "plt.title(\"class distribution\")\n",
    "plt.show()"
   ]
  },
  {
   "cell_type": "markdown",
   "metadata": {
    "id": "F_ApeUUW-lBu"
   },
   "source": [
    "make possitive label the minority"
   ]
  },
  {
   "cell_type": "code",
   "execution_count": 8,
   "metadata": {
    "id": "wbVTDr12_KME"
   },
   "outputs": [],
   "source": [
    "pdDf[\"Reached_On_Time\"] = pdDf[\"Reached_On_Time\"].map(lambda x: x^1)"
   ]
  },
  {
   "cell_type": "markdown",
   "metadata": {
    "id": "ydfNqM4KW5AP"
   },
   "source": [
    "**1.5: Split the data into development and test datasets. Which splitting methodology did you choose and why?**\n",
    "\n",
    "**Hint: Based on the distribution of the data, try to use the best splitting strategy.**"
   ]
  },
  {
   "cell_type": "markdown",
   "metadata": {
    "id": "wL3B6pNPaDgk"
   },
   "source": [
    "Splitting methodologies which can be used are random and stratified splitting strategies as the distribution is partially imbalanced. It is desirable to split the dataset into train and test sets in a way that preserves the same proportions of examples in each class as observed in the original dataset."
   ]
  },
  {
   "cell_type": "code",
   "execution_count": 9,
   "metadata": {
    "id": "MjPKHOrAW5Zy"
   },
   "outputs": [],
   "source": [
    "\n",
    "X = pdDf.drop([\"Reached_On_Time\"], axis=1)\n",
    "y = pdDf[\"Reached_On_Time\"]\n",
    "X_dev, X_test, y_dev, y_test = train_test_split(X, y, test_size=0.20, random_state=1, stratify=y)\n",
    "\n",
    "#Sort by index and drop new coloumn created by the preprocessing\n",
    "X_dev = X_dev.sort_index(ascending=True)\n",
    "X_test = X_test.sort_index(ascending=True)\n",
    "y_dev = y_dev.sort_index(ascending=True)\n",
    "y_test = y_test.sort_index(ascending=True)"
   ]
  },
  {
   "cell_type": "code",
   "execution_count": 10,
   "metadata": {
    "colab": {
     "base_uri": "https://localhost:8080/",
     "height": 487
    },
    "id": "uG--UjC8W72l",
    "outputId": "a9245101-fec3-4f6e-915b-dc6c278be914"
   },
   "outputs": [
    {
     "data": {
      "text/html": [
       "\n",
       "  <div id=\"df-7398ed00-68bd-46e6-b415-0a0d0024e3b7\">\n",
       "    <div class=\"colab-df-container\">\n",
       "      <div>\n",
       "<style scoped>\n",
       "    .dataframe tbody tr th:only-of-type {\n",
       "        vertical-align: middle;\n",
       "    }\n",
       "\n",
       "    .dataframe tbody tr th {\n",
       "        vertical-align: top;\n",
       "    }\n",
       "\n",
       "    .dataframe thead th {\n",
       "        text-align: right;\n",
       "    }\n",
       "</style>\n",
       "<table border=\"1\" class=\"dataframe\">\n",
       "  <thead>\n",
       "    <tr style=\"text-align: right;\">\n",
       "      <th></th>\n",
       "      <th>ID</th>\n",
       "      <th>Warehouse_block</th>\n",
       "      <th>Mode_of_Shipment</th>\n",
       "      <th>Customer_care_calls</th>\n",
       "      <th>Customer_rating</th>\n",
       "      <th>Cost_of_the_Product</th>\n",
       "      <th>Prior_purchases</th>\n",
       "      <th>Product_importance</th>\n",
       "      <th>Gender</th>\n",
       "      <th>Discount_offered</th>\n",
       "      <th>Weight_in_gms</th>\n",
       "    </tr>\n",
       "  </thead>\n",
       "  <tbody>\n",
       "    <tr>\n",
       "      <th>0</th>\n",
       "      <td>1</td>\n",
       "      <td>D</td>\n",
       "      <td>Flight</td>\n",
       "      <td>4</td>\n",
       "      <td>2</td>\n",
       "      <td>177</td>\n",
       "      <td>3</td>\n",
       "      <td>low</td>\n",
       "      <td>F</td>\n",
       "      <td>44</td>\n",
       "      <td>1233</td>\n",
       "    </tr>\n",
       "    <tr>\n",
       "      <th>1</th>\n",
       "      <td>2</td>\n",
       "      <td>F</td>\n",
       "      <td>Flight</td>\n",
       "      <td>4</td>\n",
       "      <td>5</td>\n",
       "      <td>216</td>\n",
       "      <td>2</td>\n",
       "      <td>low</td>\n",
       "      <td>M</td>\n",
       "      <td>59</td>\n",
       "      <td>3088</td>\n",
       "    </tr>\n",
       "    <tr>\n",
       "      <th>3</th>\n",
       "      <td>4</td>\n",
       "      <td>B</td>\n",
       "      <td>Flight</td>\n",
       "      <td>3</td>\n",
       "      <td>3</td>\n",
       "      <td>176</td>\n",
       "      <td>4</td>\n",
       "      <td>medium</td>\n",
       "      <td>M</td>\n",
       "      <td>10</td>\n",
       "      <td>1177</td>\n",
       "    </tr>\n",
       "    <tr>\n",
       "      <th>4</th>\n",
       "      <td>5</td>\n",
       "      <td>C</td>\n",
       "      <td>Flight</td>\n",
       "      <td>2</td>\n",
       "      <td>2</td>\n",
       "      <td>184</td>\n",
       "      <td>3</td>\n",
       "      <td>medium</td>\n",
       "      <td>F</td>\n",
       "      <td>46</td>\n",
       "      <td>2484</td>\n",
       "    </tr>\n",
       "    <tr>\n",
       "      <th>5</th>\n",
       "      <td>6</td>\n",
       "      <td>F</td>\n",
       "      <td>Flight</td>\n",
       "      <td>3</td>\n",
       "      <td>1</td>\n",
       "      <td>162</td>\n",
       "      <td>3</td>\n",
       "      <td>medium</td>\n",
       "      <td>F</td>\n",
       "      <td>12</td>\n",
       "      <td>1417</td>\n",
       "    </tr>\n",
       "    <tr>\n",
       "      <th>...</th>\n",
       "      <td>...</td>\n",
       "      <td>...</td>\n",
       "      <td>...</td>\n",
       "      <td>...</td>\n",
       "      <td>...</td>\n",
       "      <td>...</td>\n",
       "      <td>...</td>\n",
       "      <td>...</td>\n",
       "      <td>...</td>\n",
       "      <td>...</td>\n",
       "      <td>...</td>\n",
       "    </tr>\n",
       "    <tr>\n",
       "      <th>10992</th>\n",
       "      <td>10993</td>\n",
       "      <td>D</td>\n",
       "      <td>Ship</td>\n",
       "      <td>5</td>\n",
       "      <td>1</td>\n",
       "      <td>236</td>\n",
       "      <td>5</td>\n",
       "      <td>medium</td>\n",
       "      <td>M</td>\n",
       "      <td>3</td>\n",
       "      <td>1906</td>\n",
       "    </tr>\n",
       "    <tr>\n",
       "      <th>10993</th>\n",
       "      <td>10994</td>\n",
       "      <td>F</td>\n",
       "      <td>Ship</td>\n",
       "      <td>5</td>\n",
       "      <td>1</td>\n",
       "      <td>257</td>\n",
       "      <td>6</td>\n",
       "      <td>low</td>\n",
       "      <td>F</td>\n",
       "      <td>1</td>\n",
       "      <td>1150</td>\n",
       "    </tr>\n",
       "    <tr>\n",
       "      <th>10994</th>\n",
       "      <td>10995</td>\n",
       "      <td>A</td>\n",
       "      <td>Ship</td>\n",
       "      <td>4</td>\n",
       "      <td>1</td>\n",
       "      <td>252</td>\n",
       "      <td>5</td>\n",
       "      <td>medium</td>\n",
       "      <td>F</td>\n",
       "      <td>1</td>\n",
       "      <td>1538</td>\n",
       "    </tr>\n",
       "    <tr>\n",
       "      <th>10995</th>\n",
       "      <td>10996</td>\n",
       "      <td>B</td>\n",
       "      <td>Ship</td>\n",
       "      <td>4</td>\n",
       "      <td>1</td>\n",
       "      <td>232</td>\n",
       "      <td>5</td>\n",
       "      <td>medium</td>\n",
       "      <td>F</td>\n",
       "      <td>6</td>\n",
       "      <td>1247</td>\n",
       "    </tr>\n",
       "    <tr>\n",
       "      <th>10998</th>\n",
       "      <td>10999</td>\n",
       "      <td>D</td>\n",
       "      <td>Ship</td>\n",
       "      <td>2</td>\n",
       "      <td>5</td>\n",
       "      <td>155</td>\n",
       "      <td>5</td>\n",
       "      <td>low</td>\n",
       "      <td>F</td>\n",
       "      <td>6</td>\n",
       "      <td>1639</td>\n",
       "    </tr>\n",
       "  </tbody>\n",
       "</table>\n",
       "<p>8799 rows × 11 columns</p>\n",
       "</div>\n",
       "      <button class=\"colab-df-convert\" onclick=\"convertToInteractive('df-7398ed00-68bd-46e6-b415-0a0d0024e3b7')\"\n",
       "              title=\"Convert this dataframe to an interactive table.\"\n",
       "              style=\"display:none;\">\n",
       "        \n",
       "  <svg xmlns=\"http://www.w3.org/2000/svg\" height=\"24px\"viewBox=\"0 0 24 24\"\n",
       "       width=\"24px\">\n",
       "    <path d=\"M0 0h24v24H0V0z\" fill=\"none\"/>\n",
       "    <path d=\"M18.56 5.44l.94 2.06.94-2.06 2.06-.94-2.06-.94-.94-2.06-.94 2.06-2.06.94zm-11 1L8.5 8.5l.94-2.06 2.06-.94-2.06-.94L8.5 2.5l-.94 2.06-2.06.94zm10 10l.94 2.06.94-2.06 2.06-.94-2.06-.94-.94-2.06-.94 2.06-2.06.94z\"/><path d=\"M17.41 7.96l-1.37-1.37c-.4-.4-.92-.59-1.43-.59-.52 0-1.04.2-1.43.59L10.3 9.45l-7.72 7.72c-.78.78-.78 2.05 0 2.83L4 21.41c.39.39.9.59 1.41.59.51 0 1.02-.2 1.41-.59l7.78-7.78 2.81-2.81c.8-.78.8-2.07 0-2.86zM5.41 20L4 18.59l7.72-7.72 1.47 1.35L5.41 20z\"/>\n",
       "  </svg>\n",
       "      </button>\n",
       "      \n",
       "  <style>\n",
       "    .colab-df-container {\n",
       "      display:flex;\n",
       "      flex-wrap:wrap;\n",
       "      gap: 12px;\n",
       "    }\n",
       "\n",
       "    .colab-df-convert {\n",
       "      background-color: #E8F0FE;\n",
       "      border: none;\n",
       "      border-radius: 50%;\n",
       "      cursor: pointer;\n",
       "      display: none;\n",
       "      fill: #1967D2;\n",
       "      height: 32px;\n",
       "      padding: 0 0 0 0;\n",
       "      width: 32px;\n",
       "    }\n",
       "\n",
       "    .colab-df-convert:hover {\n",
       "      background-color: #E2EBFA;\n",
       "      box-shadow: 0px 1px 2px rgba(60, 64, 67, 0.3), 0px 1px 3px 1px rgba(60, 64, 67, 0.15);\n",
       "      fill: #174EA6;\n",
       "    }\n",
       "\n",
       "    [theme=dark] .colab-df-convert {\n",
       "      background-color: #3B4455;\n",
       "      fill: #D2E3FC;\n",
       "    }\n",
       "\n",
       "    [theme=dark] .colab-df-convert:hover {\n",
       "      background-color: #434B5C;\n",
       "      box-shadow: 0px 1px 3px 1px rgba(0, 0, 0, 0.15);\n",
       "      filter: drop-shadow(0px 1px 2px rgba(0, 0, 0, 0.3));\n",
       "      fill: #FFFFFF;\n",
       "    }\n",
       "  </style>\n",
       "\n",
       "      <script>\n",
       "        const buttonEl =\n",
       "          document.querySelector('#df-7398ed00-68bd-46e6-b415-0a0d0024e3b7 button.colab-df-convert');\n",
       "        buttonEl.style.display =\n",
       "          google.colab.kernel.accessAllowed ? 'block' : 'none';\n",
       "\n",
       "        async function convertToInteractive(key) {\n",
       "          const element = document.querySelector('#df-7398ed00-68bd-46e6-b415-0a0d0024e3b7');\n",
       "          const dataTable =\n",
       "            await google.colab.kernel.invokeFunction('convertToInteractive',\n",
       "                                                     [key], {});\n",
       "          if (!dataTable) return;\n",
       "\n",
       "          const docLinkHtml = 'Like what you see? Visit the ' +\n",
       "            '<a target=\"_blank\" href=https://colab.research.google.com/notebooks/data_table.ipynb>data table notebook</a>'\n",
       "            + ' to learn more about interactive tables.';\n",
       "          element.innerHTML = '';\n",
       "          dataTable['output_type'] = 'display_data';\n",
       "          await google.colab.output.renderOutput(dataTable, element);\n",
       "          const docLink = document.createElement('div');\n",
       "          docLink.innerHTML = docLinkHtml;\n",
       "          element.appendChild(docLink);\n",
       "        }\n",
       "      </script>\n",
       "    </div>\n",
       "  </div>\n",
       "  "
      ],
      "text/plain": [
       "          ID Warehouse_block Mode_of_Shipment  Customer_care_calls  \\\n",
       "0          1               D           Flight                    4   \n",
       "1          2               F           Flight                    4   \n",
       "3          4               B           Flight                    3   \n",
       "4          5               C           Flight                    2   \n",
       "5          6               F           Flight                    3   \n",
       "...      ...             ...              ...                  ...   \n",
       "10992  10993               D             Ship                    5   \n",
       "10993  10994               F             Ship                    5   \n",
       "10994  10995               A             Ship                    4   \n",
       "10995  10996               B             Ship                    4   \n",
       "10998  10999               D             Ship                    2   \n",
       "\n",
       "       Customer_rating  Cost_of_the_Product  Prior_purchases  \\\n",
       "0                    2                  177                3   \n",
       "1                    5                  216                2   \n",
       "3                    3                  176                4   \n",
       "4                    2                  184                3   \n",
       "5                    1                  162                3   \n",
       "...                ...                  ...              ...   \n",
       "10992                1                  236                5   \n",
       "10993                1                  257                6   \n",
       "10994                1                  252                5   \n",
       "10995                1                  232                5   \n",
       "10998                5                  155                5   \n",
       "\n",
       "      Product_importance Gender  Discount_offered  Weight_in_gms  \n",
       "0                    low      F                44           1233  \n",
       "1                    low      M                59           3088  \n",
       "3                 medium      M                10           1177  \n",
       "4                 medium      F                46           2484  \n",
       "5                 medium      F                12           1417  \n",
       "...                  ...    ...               ...            ...  \n",
       "10992             medium      M                 3           1906  \n",
       "10993                low      F                 1           1150  \n",
       "10994             medium      F                 1           1538  \n",
       "10995             medium      F                 6           1247  \n",
       "10998                low      F                 6           1639  \n",
       "\n",
       "[8799 rows x 11 columns]"
      ]
     },
     "execution_count": 10,
     "metadata": {},
     "output_type": "execute_result"
    }
   ],
   "source": [
    "X_dev"
   ]
  },
  {
   "cell_type": "markdown",
   "metadata": {
    "id": "rl4Lkx0OXH3R"
   },
   "source": [
    "**1.6: Would you drop any column? Justify your reasoning.** \n",
    "\n",
    "**Preprocess the data (Handle the Categorical Variable). Do we need to apply scaling? Briefly Justify**\n",
    "\n"
   ]
  },
  {
   "cell_type": "markdown",
   "metadata": {
    "id": "ubY3hKFmamaq"
   },
   "source": [
    "The ID column can be dropped as the feature has least importance is predicting the target variable."
   ]
  },
  {
   "cell_type": "code",
   "execution_count": 11,
   "metadata": {
    "id": "nY2jfrqWXI6o"
   },
   "outputs": [],
   "source": [
    "# Dropping 'ID' category\n",
    "X_dev = X_dev.drop(columns=['ID'])\n",
    "X_test = X_test.drop(columns=['ID'])\n",
    "\n",
    "# Get feature names\n",
    "feature_names = [f\"feature {i}\" for i in range(X_dev.shape[1])]\n",
    "\n",
    "# One hot encoding \n",
    "from sklearn.compose import make_column_transformer\n",
    "from sklearn.preprocessing import OneHotEncoder\n",
    "\n",
    "ohe_features = ['Mode_of_Shipment', 'Warehouse_block', 'Product_importance', 'Gender']\n",
    "preprocess = make_column_transformer((OneHotEncoder(), ohe_features), remainder='passthrough')\n",
    "X_dev_before_transform = X_dev.copy()\n",
    "X_test_before_transform = X_test.copy()\n",
    "X_dev = preprocess.fit_transform(X_dev)\n",
    "X_test = preprocess.transform(X_test)"
   ]
  },
  {
   "cell_type": "code",
   "execution_count": 12,
   "metadata": {
    "colab": {
     "base_uri": "https://localhost:8080/"
    },
    "id": "XWhqDYl7XK5f",
    "outputId": "69ca5f48-6517-475d-92be-f57d157ae67a"
   },
   "outputs": [
    {
     "data": {
      "text/plain": [
       "(2200, 19)"
      ]
     },
     "execution_count": 12,
     "metadata": {},
     "output_type": "execute_result"
    }
   ],
   "source": [
    "X_test.shape"
   ]
  },
  {
   "cell_type": "markdown",
   "metadata": {
    "id": "_LVpZEKDXPW9"
   },
   "source": [
    "**1.7: Fit a Decision Tree on the development data until all leaves are pure. What is the performance of the tree on the development set and test set? Evaluate test and train accuarcy on F-1 score and accuracy.**"
   ]
  },
  {
   "cell_type": "code",
   "execution_count": 13,
   "metadata": {
    "colab": {
     "base_uri": "https://localhost:8080/"
    },
    "id": "OHcoHjp5XP1W",
    "outputId": "feb19764-b68d-4095-ff75-1be9477787bd"
   },
   "outputs": [
    {
     "name": "stdout",
     "output_type": "stream",
     "text": [
      "Accuracy: 0.6359090909090909\n",
      "Train score : 1.0 \n",
      "Test score : 0.6359090909090909 \n",
      "\n",
      "Classification Report\n",
      "              precision    recall  f1-score   support\n",
      "\n",
      "           0       0.70      0.69      0.69      1313\n",
      "           1       0.55      0.55      0.55       887\n",
      "\n",
      "    accuracy                           0.64      2200\n",
      "   macro avg       0.62      0.62      0.62      2200\n",
      "weighted avg       0.64      0.64      0.64      2200\n",
      "\n",
      "\n",
      "F1 score\n",
      "0.5507571508693213\n"
     ]
    }
   ],
   "source": [
    "clf = DecisionTreeClassifier(criterion='entropy')\n",
    "\n",
    "# Train Decision Tree Classifer\n",
    "clf = clf.fit(X_dev,y_dev)\n",
    "\n",
    "#Predict the response for test dataset\n",
    "y_pred = clf.predict(X_test)\n",
    "print(\"Accuracy:\", accuracy_score(y_test, y_pred))\n",
    "\n",
    "print(\"Train score : {} \".format(clf.score(X_dev, y_dev)))\n",
    "print(\"Test score : {} \".format(clf.score(X_test, y_test)))\n",
    "\n",
    "# Classification report\n",
    "print()\n",
    "print(\"Classification Report\")\n",
    "print(classification_report(y_test, y_pred))\n",
    "\n",
    "print()\n",
    "print(\"F1 score\")\n",
    "print(f1_score(y_test, y_pred))"
   ]
  },
  {
   "cell_type": "markdown",
   "metadata": {
    "id": "SwHLxOWVXVIO"
   },
   "source": [
    "**1.8: Visualize the trained tree until the max_depth 8.**"
   ]
  },
  {
   "cell_type": "code",
   "execution_count": 14,
   "metadata": {
    "colab": {
     "base_uri": "https://localhost:8080/",
     "height": 575
    },
    "id": "plkYT4HCXVgh",
    "outputId": "d6971fe4-90d8-4ae2-beb3-ca41c9a8e71a"
   },
   "outputs": [
    {
     "data": {
      "image/png": "[encoded data removed]",
      "text/plain": [
       "<Figure size 720x720 with 1 Axes>"
      ]
     },
     "metadata": {
      "needs_background": "light"
     },
     "output_type": "display_data"
    }
   ],
   "source": [
    "from sklearn import tree\n",
    "fig, ax = plt.subplots(figsize=(10, 10))\n",
    "tree.plot_tree(clf, fontsize = 10, max_depth=8)\n",
    "\n",
    "plt.show()"
   ]
  },
  {
   "cell_type": "markdown",
   "metadata": {
    "id": "XcupbfqxXbPn"
   },
   "source": [
    "**1.9: Prune the tree using one of the techniques discussed in class and evaluate the performance.**\n",
    "\n",
    "**Print the optimal value of the tuned parameter.**"
   ]
  },
  {
   "cell_type": "code",
   "execution_count": 15,
   "metadata": {
    "colab": {
     "base_uri": "https://localhost:8080/",
     "height": 296
    },
    "id": "mgyxE8YiXbmK",
    "outputId": "edae9cb2-3d92-49e4-9735-a841effb4df9"
   },
   "outputs": [
    {
     "data": {
      "text/plain": [
       "Text(0, 0.5, 'Total impurity of the leaves')"
      ]
     },
     "execution_count": 15,
     "metadata": {},
     "output_type": "execute_result"
    },
    {
     "data": {
      "image/png": "[encoded data removed]",
      "text/plain": [
       "<Figure size 432x288 with 1 Axes>"
      ]
     },
     "metadata": {
      "needs_background": "light"
     },
     "output_type": "display_data"
    }
   ],
   "source": [
    "path = clf.cost_complexity_pruning_path(X_dev, y_dev)\n",
    "\n",
    "fig, ax = plt.subplots()\n",
    "ax.plot(path.ccp_alphas, path.impurities, marker=\"o\", drawstyle=\"steps-post\")\n",
    "ax.set_xlabel(\"Effective alpha\")\n",
    "ax.set_ylabel(\"Total impurity of the leaves\")"
   ]
  },
  {
   "cell_type": "code",
   "execution_count": 16,
   "metadata": {
    "colab": {
     "base_uri": "https://localhost:8080/",
     "height": 405
    },
    "id": "zAwaiOkeXeIt",
    "outputId": "edbaa8e3-3078-4b55-8a61-e136f74a62dc"
   },
   "outputs": [
    {
     "data": {
      "text/plain": [
       "Text(0, 0.5, 'total depth')"
      ]
     },
     "execution_count": 16,
     "metadata": {},
     "output_type": "execute_result"
    },
    {
     "data": {
      "image/png": "[encoded data removed]",
      "text/plain": [
       "<Figure size 720x432 with 1 Axes>"
      ]
     },
     "metadata": {
      "needs_background": "light"
     },
     "output_type": "display_data"
    }
   ],
   "source": [
    "# Finding optimal value of alpha\n",
    "clfs = []\n",
    "\n",
    "ccp_alphas, impurities = path.ccp_alphas, path.impurities\n",
    "for ccp_alpha in ccp_alphas:\n",
    "    clf = DecisionTreeClassifier(random_state=0, ccp_alpha=ccp_alpha)\n",
    "    clf.fit(X_dev, y_dev)\n",
    "    clfs.append(clf)\n",
    "\n",
    "tree_depths = [clf.tree_.max_depth for clf in clfs]\n",
    "plt.figure(figsize=(10,  6))\n",
    "plt.plot(ccp_alphas[:-1], tree_depths[:-1])\n",
    "plt.xlabel(\"effective alpha\")\n",
    "plt.ylabel(\"total depth\")"
   ]
  },
  {
   "cell_type": "code",
   "execution_count": 17,
   "metadata": {
    "colab": {
     "base_uri": "https://localhost:8080/",
     "height": 405
    },
    "id": "Ptr5nqlaXgg-",
    "outputId": "e6dd3e18-bded-4475-eda4-32344bf6a70e"
   },
   "outputs": [
    {
     "data": {
      "text/plain": [
       "Text(0, 0.5, 'Accuracy scores')"
      ]
     },
     "execution_count": 17,
     "metadata": {},
     "output_type": "execute_result"
    },
    {
     "data": {
      "image/png": "[encoded data removed]",
      "text/plain": [
       "<Figure size 720x432 with 1 Axes>"
      ]
     },
     "metadata": {
      "needs_background": "light"
     },
     "output_type": "display_data"
    }
   ],
   "source": [
    "from sklearn.metrics import accuracy_score\n",
    "\n",
    "acc_scores = [accuracy_score(y_test, clf.predict(X_test)) for clf in clfs]\n",
    "\n",
    "tree_depths = [clf.tree_.max_depth for clf in clfs]\n",
    "plt.figure(figsize=(10,  6))\n",
    "plt.grid()\n",
    "plt.plot(ccp_alphas[:-1], acc_scores[:-1])\n",
    "plt.xlabel(\"effective alpha\")\n",
    "plt.ylabel(\"Accuracy scores\")"
   ]
  },
  {
   "cell_type": "code",
   "execution_count": 18,
   "metadata": {
    "colab": {
     "base_uri": "https://localhost:8080/"
    },
    "id": "XlfnqsfcXihP",
    "outputId": "117ad1b6-d692-4266-fbbd-f518be91a3ef"
   },
   "outputs": [
    {
     "name": "stdout",
     "output_type": "stream",
     "text": [
      "Accuracy: 0.6468181818181818\n"
     ]
    }
   ],
   "source": [
    "clf = DecisionTreeClassifier(ccp_alpha=0.007)\n",
    "\n",
    "clf = clf.fit(X_dev,y_dev)\n",
    "\n",
    "y_pred = clf.predict(X_test)\n",
    "print(\"Accuracy:\", accuracy_score(y_test, y_pred))"
   ]
  },
  {
   "cell_type": "code",
   "execution_count": 19,
   "metadata": {
    "colab": {
     "base_uri": "https://localhost:8080/"
    },
    "id": "g1gB0qRCXk2L",
    "outputId": "5502b421-b790-4ba6-fed0-53ad46cbd700"
   },
   "outputs": [
    {
     "name": "stdout",
     "output_type": "stream",
     "text": [
      "The best performance on test data is : 0.6845454545454546 , and the corresponding alpha value is 0.0006855898012087178\n"
     ]
    }
   ],
   "source": [
    "index_max = np.argmax(np.array(acc_scores[:-1]))\n",
    "best_alpha = ccp_alphas[index_max]\n",
    "print(\"The best performance on test data is : {} , and the corresponding alpha value is {}\".format(acc_scores[index_max], best_alpha))"
   ]
  },
  {
   "cell_type": "code",
   "execution_count": 19,
   "metadata": {
    "id": "xHDq9-wLdPUi"
   },
   "outputs": [],
   "source": []
  },
  {
   "cell_type": "code",
   "execution_count": 20,
   "metadata": {
    "colab": {
     "base_uri": "https://localhost:8080/"
    },
    "id": "Q7WSMBhPXmvy",
    "outputId": "5452fee7-130d-439e-df83-3cc6d56bd552"
   },
   "outputs": [
    {
     "name": "stdout",
     "output_type": "stream",
     "text": [
      "Train score : 0.6432549153312876 \n",
      "Test score : 0.6468181818181818 \n",
      "\n",
      "Classification Report\n",
      "              precision    recall  f1-score   support\n",
      "\n",
      "           0       1.00      0.41      0.58      1313\n",
      "           1       0.53      1.00      0.70       887\n",
      "\n",
      "    accuracy                           0.65      2200\n",
      "   macro avg       0.77      0.70      0.64      2200\n",
      "weighted avg       0.81      0.65      0.63      2200\n",
      "\n",
      "\n",
      "F1 score\n",
      "0.6954135633085065\n"
     ]
    }
   ],
   "source": [
    "data_y_test_pred = clf.predict(X_test)\n",
    "\n",
    "# Accuracy score\n",
    "print(\"Train score : {} \".format(clf.score(X_dev, y_dev)))\n",
    "print(\"Test score : {} \".format(clf.score(X_test, y_test)))\n",
    "\n",
    "# Classification report\n",
    "print()\n",
    "print(\"Classification Report\")\n",
    "print(classification_report(y_test, data_y_test_pred))\n",
    "\n",
    "print()\n",
    "print(\"F1 score\")\n",
    "print(f1_score(y_test, data_y_test_pred))"
   ]
  },
  {
   "cell_type": "markdown",
   "metadata": {
    "id": "Xevu4k1dXrld"
   },
   "source": [
    "**1.10: List the top 3 most important features for this trained tree? How would you justify these features being the most important?**"
   ]
  },
  {
   "cell_type": "code",
   "execution_count": 21,
   "metadata": {
    "id": "zaVizbkCXr7w"
   },
   "outputs": [],
   "source": [
    "# Select the best accuracy alpha values and train again\n",
    "clf = DecisionTreeClassifier(random_state=0, ccp_alpha=best_alpha)\n",
    "clf.fit(X_dev, y_dev)\n",
    "\n",
    "#Computing importance features\n",
    "importances = clf.feature_importances_"
   ]
  },
  {
   "cell_type": "code",
   "execution_count": 22,
   "metadata": {
    "id": "tjXjtwikXuRG"
   },
   "outputs": [],
   "source": [
    "num_features = ['Weight_in_gms', 'Prior_purchases',\n",
    "                'Discount_offered', 'Customer_rating',\n",
    "                'Customer_care_calls', 'Cost_of_the_Product']\n",
    "ohe_feature_names = preprocess.named_transformers_[\"onehotencoder\"].get_feature_names_out()\n",
    "feature_names = ohe_feature_names.tolist() + num_features"
   ]
  },
  {
   "cell_type": "code",
   "execution_count": 23,
   "metadata": {
    "id": "HtAA3004Xv26"
   },
   "outputs": [],
   "source": [
    "# Sort the importances\n",
    "zipped_lists = zip(importances, feature_names)\n",
    "sorted_pairs = sorted(zipped_lists)\n",
    "\n",
    "tuples = zip(*sorted_pairs)\n",
    "importances, feature_names = [ list(tuple) for tuple in  tuples]\n",
    "\n",
    "importances = importances[::-1]\n",
    "feature_names = feature_names[::-1]"
   ]
  },
  {
   "cell_type": "code",
   "execution_count": 24,
   "metadata": {
    "colab": {
     "base_uri": "https://localhost:8080/"
    },
    "id": "c8X9iEhyTGVW",
    "outputId": "6c9fe2dd-2596-4d18-d6f3-2c77198f549e"
   },
   "outputs": [
    {
     "name": "stdout",
     "output_type": "stream",
     "text": [
      "['Customer_care_calls', 'Cost_of_the_Product', 'Customer_rating', 'Discount_offered', 'Weight_in_gms', 'Warehouse_block_F', 'Warehouse_block_D', 'Warehouse_block_C', 'Warehouse_block_B', 'Warehouse_block_A', 'Product_importance_medium', 'Product_importance_low', 'Product_importance_high', 'Prior_purchases', 'Mode_of_Shipment_Ship', 'Mode_of_Shipment_Road', 'Mode_of_Shipment_Flight', 'Gender_M', 'Gender_F']\n"
     ]
    }
   ],
   "source": [
    "print(feature_names)"
   ]
  },
  {
   "cell_type": "code",
   "execution_count": 25,
   "metadata": {
    "colab": {
     "base_uri": "https://localhost:8080/",
     "height": 297
    },
    "id": "b6AAGl9jXxmI",
    "outputId": "6cff907a-d102-4f16-96bf-0cf65b320588"
   },
   "outputs": [
    {
     "data": {
      "image/png": "[encoded data removed]",
      "text/plain": [
       "<Figure size 432x288 with 1 Axes>"
      ]
     },
     "metadata": {
      "needs_background": "light"
     },
     "output_type": "display_data"
    }
   ],
   "source": [
    "# Plot importance features\n",
    "forest_importances = pd.Series(importances, index=feature_names)\n",
    "\n",
    "fig, ax = plt.subplots()\n",
    "forest_importances.plot.bar(ax=ax)\n",
    "ax.set_title(\"Feature importances ranking\")\n",
    "ax.set_ylabel(\"Feature Importance\")\n",
    "fig.tight_layout()"
   ]
  },
  {
   "cell_type": "markdown",
   "metadata": {
    "id": "SIgR9jBzbOKq"
   },
   "source": [
    "The three most important features are :- \"Customer care calls\", \"Cost of the product\" and \"Customer rating\". These are computed by summing up the feature importances for each feature of the trained tree. "
   ]
  },
  {
   "cell_type": "markdown",
   "metadata": {
    "id": "0EaPUeMN5K62"
   },
   "source": [
    "## Question 2: Random Forests"
   ]
  },
  {
   "cell_type": "markdown",
   "metadata": {
    "id": "e4nmOojt5cAn"
   },
   "source": [
    "**2.1: Train a Random Forest model on the development dataset using RandomForestClassifier class in sklearn. Use the default parameters. Evaluate the performance of the model on test dataset. Use accuracy and F1 score to evaluate. Does this perform better than Decision Tree on the test dataset (compare to results in Q 1.7)?**"
   ]
  },
  {
   "cell_type": "code",
   "execution_count": 26,
   "metadata": {
    "colab": {
     "base_uri": "https://localhost:8080/"
    },
    "id": "6eBehRQg5mT-",
    "outputId": "9054c699-5444-43c0-af9c-2a6bc25b3568"
   },
   "outputs": [
    {
     "name": "stdout",
     "output_type": "stream",
     "text": [
      "Train accuray : 1.0 \n",
      "Test accuracy : 0.6554545454545454 \n",
      "\n",
      "Test data F1 score:  0.6171717171717173\n"
     ]
    }
   ],
   "source": [
    "\n",
    "# Train model using default params\n",
    "RF_classifier = RandomForestClassifier()\n",
    "RF_classifier.fit(X_dev, y_dev)\n",
    "\n",
    "y_test_pred = RF_classifier.predict(X_test)\n",
    "\n",
    "# Accuracy score\n",
    "print(\"Train accuray : {} \".format(accuracy_score(RF_classifier.predict(X_dev), y_dev)))\n",
    "print(\"Test accuracy : {} \".format(accuracy_score(RF_classifier.predict(X_test), y_test)))\n",
    "\n",
    "\n",
    "print()\n",
    "print(\"Test data F1 score: \", f1_score(y_test, y_test_pred))\n"
   ]
  },
  {
   "cell_type": "markdown",
   "metadata": {
    "id": "RyCPWZsmJbLD"
   },
   "source": [
    "Slight increase in accuracy and F1 score"
   ]
  },
  {
   "cell_type": "markdown",
   "metadata": {
    "id": "QoJQilC78kv6"
   },
   "source": [
    "**2.2: Do all trees in the trained random forest model have pure leaves? How would you verify that all trees have pure leaves? Print the score (mean accuracy) values of your choosen method**"
   ]
  },
  {
   "cell_type": "code",
   "execution_count": 27,
   "metadata": {
    "id": "z6P0dNqg8jlQ"
   },
   "outputs": [],
   "source": [
    "def bfs(clf):\n",
    "    '''Implementing Breadth First Search to find the Impurities in the Leaf Nodes'''\n",
    "    q = [0]\n",
    "    l_c = clf.tree_.children_left\n",
    "    r_c = clf.tree_.children_right\n",
    "    imp = clf.tree_.impurity\n",
    "    imp_leaf = []\n",
    "    while q:\n",
    "        temp = q.pop(0)\n",
    "        # If left child and right child are same it means that it is a leaf node.\n",
    "        if l_c[temp] == r_c[temp]:\n",
    "            impurity = imp[temp]\n",
    "            imp_leaf.append(impurity)\n",
    "        else:\n",
    "            q.append(l_c[temp])\n",
    "            q.append(r_c[temp])\n",
    "    return imp_leaf\n",
    "\n",
    "trees = RF_classifier.estimators_\n",
    "for dec_tree in trees:\n",
    "    leaf_node_impurity = bfs(dec_tree)\n",
    "    assert all(leaf_node_impurity) == 0.0"
   ]
  },
  {
   "cell_type": "markdown",
   "metadata": {
    "id": "b-S6B28PJuhw"
   },
   "source": [
    "All trees in the trained random forest model have pure leaves."
   ]
  },
  {
   "cell_type": "code",
   "execution_count": 28,
   "metadata": {
    "colab": {
     "base_uri": "https://localhost:8080/"
    },
    "id": "-2_j7azNezT6",
    "outputId": "a07a17cf-f16d-4506-a80f-2a26eb4f46d6"
   },
   "outputs": [
    {
     "name": "stdout",
     "output_type": "stream",
     "text": [
      "[0.8675985907489487, 0.8660075008523695, 0.8622570746675758, 0.8686214342538925, 0.8678258893056029, 0.8649846573474258, 0.8660075008523695, 0.8564609614728946, 0.8662347994090237, 0.8678258893056029, 0.8670303443573133, 0.8632799181725196, 0.8630526196158654, 0.8725991589953404, 0.86521195590408, 0.8625980225025571, 0.8681668371405842, 0.8613478804409592, 0.8630526196158654, 0.86793953858393, 0.8729401068303216, 0.8648710080690988, 0.8655529037390612, 0.8655529037390612, 0.8729401068303216, 0.8655529037390612, 0.8621434253892488, 0.8711217183770883, 0.866575747244005, 0.8622570746675758, 0.8610069326059779, 0.8697579270371633, 0.8657802022957154, 0.872144561882032, 0.8694169792021821, 0.8678258893056029, 0.869303329923855, 0.8655529037390612, 0.869303329923855, 0.8686214342538925, 0.8660075008523695, 0.8653256051824071, 0.8672576429139675, 0.86521195590408, 0.8666893965223321, 0.8695306284805091, 0.866575747244005, 0.8646437095124446, 0.8614615297192862, 0.8681668371405842, 0.8686214342538925, 0.87066712126378, 0.8648710080690988, 0.8700988748721445, 0.8643027616774633, 0.8696442777588362, 0.8643027616774633, 0.8752130923968633, 0.8650983066257529, 0.8669166950789863, 0.8666893965223321, 0.8771451301284237, 0.8622570746675758, 0.8677122400272759, 0.8650983066257529, 0.8671439936356404, 0.8683941356972383, 0.8732810546653029, 0.8668030458006591, 0.8698715763154904, 0.8699852255938175, 0.8656665530173884, 0.8613478804409592, 0.8702125241504717, 0.8646437095124446, 0.8645300602341175, 0.870780770542107, 0.863848164564155, 0.8605523354926696, 0.8686214342538925, 0.8647573587907716, 0.870780770542107, 0.8663484486873508, 0.8731674053869758, 0.8628253210592113, 0.8685077849755654, 0.8660075008523695, 0.8685077849755654, 0.8670303443573133, 0.8643027616774633, 0.8606659847709967, 0.8689623820888738, 0.8640754631208092, 0.8711217183770883, 0.8669166950789863, 0.8713490169337424, 0.8678258893056029, 0.868053187862257, 0.86521195590408, 0.8678258893056029]\n"
     ]
    }
   ],
   "source": [
    "scores=[]\n",
    "for e in RF_classifier.estimators_ :\n",
    "  training_score = e.score(X_dev, y_dev)\n",
    "  scores.append(training_score)\n",
    "print(scores)"
   ]
  },
  {
   "cell_type": "markdown",
   "metadata": {
    "id": "MytJiUUWe7BI"
   },
   "source": [
    "Even though the score of dev dataset is less than 1, we can not see the tree is impure, for Random Forest just use a subset of dev dataset to train each tree."
   ]
  },
  {
   "cell_type": "markdown",
   "metadata": {
    "id": "Nf_5wY4C8xHa"
   },
   "source": [
    "**2.3: Assume you want to improve the performance of this model. Also, assume that you had to pick two hyperparameters that you could tune to improve its performance. Which hyperparameters would you choose and why?**\n"
   ]
  },
  {
   "cell_type": "markdown",
   "metadata": {
    "id": "DcYhNsY2KlC0"
   },
   "source": [
    "Since there seems to be an overfitting issue, n_estimators (controls number of trees)\n",
    "and min samples split (can help control overfitting by limiting the number of min samples in splits)."
   ]
  },
  {
   "cell_type": "markdown",
   "metadata": {
    "id": "4L5ymzKB84BQ"
   },
   "source": [
    "**2.4: Now, assume you had to choose up to 5 different values (each) for these two hyperparameters. How would you choose these values that could potentially give you a performance lift?**"
   ]
  },
  {
   "cell_type": "markdown",
   "metadata": {
    "id": "_tRbR0KTLMM0"
   },
   "source": [
    "\"n_estimators\":[50,80,100,130,150],\n",
    "\"min_samples_split\":  [8,10,12,13,15]"
   ]
  },
  {
   "cell_type": "markdown",
   "metadata": {
    "id": "ipLNT1y_84rI"
   },
   "source": [
    "**2.5: Perform model selection using the chosen values for the hyperparameters. Use out-of-bag (OOB) error for finding the optimal hyperparameters. Report on the optimal hyperparameters. Estimate the performance of the optimal model (model trained with optimal hyperparameters) on train and test dataset? Has the performance improved over your plain-vanilla random forest model trained in Q2.1?**"
   ]
  },
  {
   "cell_type": "code",
   "execution_count": null,
   "metadata": {
    "id": "mpyNbxR8849c"
   },
   "outputs": [],
   "source": [
    "params = {\"n_estimators\":[50,80,100,130,150],\n",
    "              \"min_samples_split\":  [8,10,12,13,15]}\n",
    "\n",
    "# clf_rfc_a = GridSearchCV(estimator = RandomForestClassifier(random_state=10), \n",
    "#                        param_grid = params, cv=StratifiedKFold(n_splits=5, shuffle=False))\n",
    "# clf_rfc_a.fit(X_dev,y_dev)\n",
    "\n",
    "# print(\"best hyperparameters:\", clf_rfc_a.best_params_)\n",
    "# print(\"mean cross-validated score with best hyperparameters:\", clf_rfc_a.best_score_)"
   ]
  },
  {
   "cell_type": "code",
   "execution_count": null,
   "metadata": {
    "colab": {
     "base_uri": "https://localhost:8080/"
    },
    "id": "XCniACwP65U5",
    "outputId": "6800b69c-12a2-4242-91df-c30ce24f246a"
   },
   "outputs": [
    {
     "name": "stdout",
     "output_type": "stream",
     "text": [
      "OOB: 0.66746\n",
      "Grid: {'min_samples_split': 12, 'n_estimators': 150}\n"
     ]
    }
   ],
   "source": [
    "estimator = RandomForestClassifier(random_state=10, oob_score=True)\n",
    "best_score = -1\n",
    "for g in ParameterGrid(params):\n",
    "    estimator.set_params(**g)\n",
    "    estimator.fit(X_dev,y_dev)\n",
    "    # save if best\n",
    "    if estimator.oob_score_ > best_score:\n",
    "        best_score = estimator.oob_score_\n",
    "        best_grid = g\n",
    "\n",
    "print(\"OOB: %0.5f\"%best_score)\n",
    "print(\"Grid:\", best_grid)"
   ]
  },
  {
   "cell_type": "code",
   "execution_count": null,
   "metadata": {
    "colab": {
     "base_uri": "https://localhost:8080/"
    },
    "id": "iZDXx7bT_VCG",
    "outputId": "5d95465a-63c1-4ca1-88ce-49e300fbca13"
   },
   "outputs": [
    {
     "name": "stdout",
     "output_type": "stream",
     "text": [
      "0.6423427748439751\n",
      "Accuracy for RandomForestClassifier on testing data with best hyperparameters:\n",
      "Precision :  0.5593645484949833\n",
      "Recall :  0.7542277339346111\n",
      "F1 Score :  0.6423427748439751\n",
      "              precision    recall  f1-score   support\n",
      "\n",
      "           0       0.78      0.60      0.68      1313\n",
      "           1       0.56      0.75      0.64       887\n",
      "\n",
      "    accuracy                           0.66      2200\n",
      "   macro avg       0.67      0.68      0.66      2200\n",
      "weighted avg       0.69      0.66      0.66      2200\n",
      "\n",
      "Train accuray : 0.9524946016592795 \n",
      "Test accuracy : 0.6613636363636364 \n"
     ]
    }
   ],
   "source": [
    "clf_rfc_best = RandomForestClassifier(min_samples_split = best_grid[\"min_samples_split\"], \n",
    "                                         n_estimators = best_grid[\"n_estimators\"],\n",
    "                                         random_state=10)\n",
    "clf_rfc_best.fit(X_dev, y_dev)\n",
    "y_pred = clf_rfc_best.predict(X_test)\n",
    "print(f1_score(y_test, y_pred))\n",
    "score_rfc = precision_recall_fscore_support(y_test, y_pred, average = \"binary\")\n",
    "print(\"Accuracy for RandomForestClassifier on testing data with best hyperparameters:\")\n",
    "print(\"Precision : \", score_rfc[0])\n",
    "print(\"Recall : \", score_rfc[1])\n",
    "print(\"F1 Score : \", score_rfc[2])\n",
    "\n",
    "print(classification_report(y_test, y_pred))\n",
    "\n",
    "# Accuracy score\n",
    "print(\"Train accuray : {} \".format(accuracy_score(clf_rfc_best.predict(X_dev), y_dev)))\n",
    "print(\"Test accuracy : {} \".format(accuracy_score(clf_rfc_best.predict(X_test), y_test)))"
   ]
  },
  {
   "cell_type": "markdown",
   "metadata": {
    "id": "AXDbRFDajqda"
   },
   "source": [
    "Increase in both accuracy and F1-score compared to Q2.1"
   ]
  },
  {
   "cell_type": "markdown",
   "metadata": {
    "id": "E99HR_mZA_cM"
   },
   "source": [
    " **2.6: Can you find the top 3 most important features from the model trained in Q2.5? How do these features compare to the important features that you found from Q1.10? If they differ, which feature set makes more sense?**"
   ]
  },
  {
   "cell_type": "code",
   "execution_count": null,
   "metadata": {
    "colab": {
     "base_uri": "https://localhost:8080/",
     "height": 456
    },
    "id": "PIsQbfSYBDjM",
    "outputId": "8e0e111e-e80b-48f2-b63d-29178050265e"
   },
   "outputs": [
    {
     "name": "stderr",
     "output_type": "stream",
     "text": [
      "/usr/local/lib/python3.8/dist-packages/seaborn/_decorators.py:36: FutureWarning: Pass the following variables as keyword args: x, y. From version 0.12, the only valid positional argument will be `data`, and passing other arguments without an explicit keyword will result in an error or misinterpretation.\n",
      "  warnings.warn(\n"
     ]
    },
    {
     "data": {
      "image/png": "[encoded data removed]",
      "text/plain": [
       "<Figure size 432x288 with 1 Axes>"
      ]
     },
     "metadata": {
      "needs_background": "light"
     },
     "output_type": "display_data"
    }
   ],
   "source": [
    "feat_imps = zip(feature_names, clf_rfc_best.feature_importances_)\n",
    "feats, imps = zip(*(sorted(list(filter(lambda x:x[1] !=0, feat_imps)), key=lambda x: x[1], reverse=True)))\n",
    "ax = sns.barplot(list(feats),list(imps))\n",
    "ax.tick_params(axis=\"x\", rotation=90)"
   ]
  },
  {
   "cell_type": "markdown",
   "metadata": {
    "id": "QeRAyxklj4LC"
   },
   "source": [
    "For our tuned random forest classifier Gender_F, Gender_M and Mode_of_shipment_road are the three\n",
    "most important features. For the single decision tree, it was customer_care_calls, cost_of_the_product and customer_rating."
   ]
  },
  {
   "cell_type": "markdown",
   "metadata": {
    "id": "IwgYEfrfLh1H"
   },
   "source": [
    "## Question 3: Gradient Boosted Trees"
   ]
  },
  {
   "cell_type": "markdown",
   "metadata": {
    "id": "G22EKzRjLh1I"
   },
   "source": [
    "**3.1: Choose three hyperparameters to tune HistGradientBoostingClassifier on the development dataset using 5-fold cross validation. For each hyperparmeter, give it 3 potential values. Report on the time taken to do model selection for the model. Also, report the performance of the test dataset from the optimal models.**"
   ]
  },
  {
   "cell_type": "code",
   "execution_count": null,
   "metadata": {
    "colab": {
     "base_uri": "https://localhost:8080/"
    },
    "id": "wVP5UyYwwezv",
    "outputId": "7162cf4e-2f74-4b90-bbfd-6c35d7f4e10e"
   },
   "outputs": [
    {
     "name": "stdout",
     "output_type": "stream",
     "text": [
      "time cost:61.74085307s\n",
      "best hyperparameters: {'l2_regularization': 0.001, 'learning_rate': 0.1, 'max_depth': 6}\n",
      "mean cross-validated score with best hyperparameters: 0.6027754664323737\n"
     ]
    }
   ],
   "source": [
    "t = time.time()\n",
    "param = {'learning_rate':[0.1, 0.01, 0.001], \n",
    "               'max_depth':[3, 6, 9],\n",
    "               'l2_regularization': np.logspace(-3, -1, 3)}\n",
    "clf_hgb = make_pipeline(preprocess, \n",
    "                        GridSearchCV(estimator = HistGradientBoostingClassifier(random_state=10), \n",
    "                                     param_grid = param,\n",
    "                                     cv=StratifiedKFold(n_splits=5, shuffle=False)))\n",
    "clf_hgb.fit(X_dev_before_transform,y_dev)\n",
    "print(f'time cost:{time.time()-t:.8f}s')\n",
    "print(\"best hyperparameters:\", clf_hgb[\"gridsearchcv\"].best_params_)\n",
    "print(\"mean cross-validated score with best hyperparameters:\", clf_hgb[\"gridsearchcv\"].best_score_)"
   ]
  },
  {
   "cell_type": "code",
   "execution_count": null,
   "metadata": {
    "colab": {
     "base_uri": "https://localhost:8080/"
    },
    "id": "2mN3Boo8Lh1I",
    "outputId": "d5ca1352-a19a-40fa-fce3-22489133ddc4"
   },
   "outputs": [
    {
     "name": "stdout",
     "output_type": "stream",
     "text": [
      "Accuracy for GradientBoostingClassifier on testing data with best hyperparameters: 0.6636363636363637\n",
      "              precision    recall  f1-score   support\n",
      "\n",
      "           0       0.80      0.58      0.67      1313\n",
      "           1       0.56      0.79      0.65       887\n",
      "\n",
      "    accuracy                           0.66      2200\n",
      "   macro avg       0.68      0.68      0.66      2200\n",
      "weighted avg       0.70      0.66      0.67      2200\n",
      "\n"
     ]
    }
   ],
   "source": [
    "clf_hgb_best = HistGradientBoostingClassifier(learning_rate = clf_hgb[\"gridsearchcv\"].best_params_[\"learning_rate\"], \n",
    "                                         max_depth = clf_hgb[\"gridsearchcv\"].best_params_[\"max_depth\"], \n",
    "                                         l2_regularization = clf_hgb[\"gridsearchcv\"].best_params_['l2_regularization'],\n",
    "                                         random_state=10)\n",
    "clf_hgb_best.fit(X_dev, y_dev)\n",
    "y_pred = clf_hgb_best.predict(X_test)\n",
    "score_hgb = accuracy_score(y_test, y_pred)\n",
    "print(\"Accuracy for GradientBoostingClassifier on testing data with best hyperparameters:\", score_hgb)\n",
    "print(classification_report(y_test, y_pred))"
   ]
  },
  {
   "cell_type": "markdown",
   "metadata": {
    "id": "n1_47XwsLh1I"
   },
   "source": [
    "**3.2: Repeat 3.1 for XGBoost.**\n",
    "\n",
    "**Note**: For XGBoost, you **DO NOT NEED** to choose the same hyperparameters as HistGradientBoostingClassifier."
   ]
  },
  {
   "cell_type": "code",
   "execution_count": null,
   "metadata": {
    "colab": {
     "base_uri": "https://localhost:8080/"
    },
    "id": "qkF14oplLh1I",
    "outputId": "96b4fd0e-be7e-4f88-fa45-6eaafe7dc6fe"
   },
   "outputs": [
    {
     "name": "stdout",
     "output_type": "stream",
     "text": [
      "cost:44.75418639s\n"
     ]
    }
   ],
   "source": [
    "t = time.time()\n",
    "param = {'learning_rate':[0.05, 0.01, 0.005], \n",
    "               'n_estimators':[20, 30, 40], \n",
    "               'max_depth':[3, 6, 9]}\n",
    "clf_xgb = make_pipeline(preprocess,\n",
    "                        GridSearchCV(estimator = XGBClassifier(random_state=10), \n",
    "                                     param_grid = param,\n",
    "                                     cv=StratifiedKFold(n_splits=5, shuffle=False)))\n",
    "clf_xgb.fit(X_dev_before_transform,y_dev)\n",
    "print(f'cost:{time.time()-t:.8f}s')"
   ]
  },
  {
   "cell_type": "code",
   "execution_count": null,
   "metadata": {
    "colab": {
     "base_uri": "https://localhost:8080/"
    },
    "id": "cRcVg93YLh1I",
    "outputId": "7d13e830-3b71-4744-e068-0168c888fc28"
   },
   "outputs": [
    {
     "name": "stdout",
     "output_type": "stream",
     "text": [
      "best hyperparameters: {'learning_rate': 0.01, 'max_depth': 3, 'n_estimators': 30}\n",
      "best scores: 0.6105002842524161\n"
     ]
    }
   ],
   "source": [
    "print(\"best hyperparameters:\", clf_xgb[\"gridsearchcv\"].best_params_)\n",
    "print(\"best scores:\", clf_xgb[\"gridsearchcv\"].best_score_)"
   ]
  },
  {
   "cell_type": "code",
   "execution_count": null,
   "metadata": {
    "colab": {
     "base_uri": "https://localhost:8080/"
    },
    "id": "G7DjpjWeLh1I",
    "outputId": "8552ee6b-bbcc-4bcd-de9b-2c00c94e6ff1"
   },
   "outputs": [
    {
     "name": "stdout",
     "output_type": "stream",
     "text": [
      "Accuracy for GradientBoostingClassifier on testing data with best hyperparameters: 0.6845454545454546\n",
      "              precision    recall  f1-score   support\n",
      "\n",
      "           0       0.94      0.51      0.66      1313\n",
      "           1       0.56      0.95      0.71       887\n",
      "\n",
      "    accuracy                           0.68      2200\n",
      "   macro avg       0.75      0.73      0.68      2200\n",
      "weighted avg       0.79      0.68      0.68      2200\n",
      "\n"
     ]
    }
   ],
   "source": [
    "clf_xgb_best = XGBClassifier(learning_rate = clf_xgb[\"gridsearchcv\"].best_params_[\"learning_rate\"], \n",
    "                                          max_depth = clf_xgb[\"gridsearchcv\"].best_params_[\"max_depth\"], \n",
    "                                          n_estimators = clf_xgb[\"gridsearchcv\"].best_params_[\"n_estimators\"],\n",
    "                                          random_state=10)\n",
    "clf_xgb_best.fit(X_dev, y_dev)\n",
    "y_pred = clf_xgb_best.predict(X_test)\n",
    "score_xgb = accuracy_score(y_test, y_pred)\n",
    "print(\"Accuracy for GradientBoostingClassifier on testing data with best hyperparameters:\", score_xgb)\n",
    "print(classification_report(y_test, y_pred))"
   ]
  },
  {
   "cell_type": "markdown",
   "metadata": {
    "id": "LDcp7suzLh1I"
   },
   "source": [
    "**3.3: Compare the results on the test dataset of XGBoost and HistGradientBoostingClassifier. Which model do you prefer and why?**"
   ]
  },
  {
   "cell_type": "code",
   "execution_count": null,
   "metadata": {
    "colab": {
     "base_uri": "https://localhost:8080/"
    },
    "id": "xqUJdl0MLh1I",
    "outputId": "00659892-6471-472b-85f2-1853c13d1ace"
   },
   "outputs": [
    {
     "name": "stdout",
     "output_type": "stream",
     "text": [
      "HistGradientBoostingClassifier: 0.6636363636363637\n",
      "XGBoost: 0.6845454545454546\n"
     ]
    }
   ],
   "source": [
    "print(\"HistGradientBoostingClassifier:\", score_hgb)\n",
    "print(\"XGBoost:\", score_xgb)"
   ]
  },
  {
   "cell_type": "markdown",
   "metadata": {
    "id": "6Ytrl8fi2U2y"
   },
   "source": [
    "I prefer XGBoost for it has the highest performance and the lowest time cost."
   ]
  },
  {
   "cell_type": "markdown",
   "metadata": {
    "id": "MiLxyTs3Lh1I"
   },
   "source": [
    "**3.4: Can you list the top 3 important features from the trained XGBoost model? How do they differ from the features found from Random Forest and Decision Tree?**"
   ]
  },
  {
   "cell_type": "code",
   "execution_count": null,
   "metadata": {
    "colab": {
     "base_uri": "https://localhost:8080/",
     "height": 434
    },
    "id": "5NgsVB8YLh1I",
    "outputId": "f07af721-002f-4175-ad94-c60e7cd49441"
   },
   "outputs": [
    {
     "name": "stderr",
     "output_type": "stream",
     "text": [
      "/usr/local/lib/python3.8/dist-packages/seaborn/_decorators.py:36: FutureWarning: Pass the following variables as keyword args: x, y. From version 0.12, the only valid positional argument will be `data`, and passing other arguments without an explicit keyword will result in an error or misinterpretation.\n",
      "  warnings.warn(\n"
     ]
    },
    {
     "data": {
      "image/png": "[encoded data removed]",
      "text/plain": [
       "<Figure size 432x288 with 1 Axes>"
      ]
     },
     "metadata": {
      "needs_background": "light"
     },
     "output_type": "display_data"
    }
   ],
   "source": [
    "feat_imps = zip(feature_names, clf_xgb_best.feature_importances_)\n",
    "feats, imps = zip(*(sorted(list(filter(lambda x:x[1] !=0, feat_imps)), key=lambda x: x[1], reverse=True)))\n",
    "ax = sns.barplot(list(feats),list(imps))\n",
    "ax.tick_params(axis=\"x\", rotation=70)"
   ]
  },
  {
   "cell_type": "markdown",
   "metadata": {
    "id": "X_DFfV1q90wY"
   },
   "source": [
    "The top 3 features from XGBoost is similar to that from Random Forest but totally different with that from Decision Tree."
   ]
  },
  {
   "cell_type": "markdown",
   "metadata": {
    "id": "XslKOV0zLh1I"
   },
   "source": [
    "**3.5: Can you choose the top 5 features (as given by feature importances from XGBoost) and repeat Q3.2? Does this model perform better than the one trained in Q3.2? Why or why not is the performance better?**"
   ]
  },
  {
   "cell_type": "code",
   "execution_count": null,
   "metadata": {
    "colab": {
     "base_uri": "https://localhost:8080/",
     "height": 206
    },
    "id": "S0V8cHeFLh1I",
    "outputId": "a053532d-6da5-4b8b-ae54-8daed7d03f69"
   },
   "outputs": [
    {
     "data": {
      "text/html": [
       "\n",
       "  <div id=\"df-d8e3b77f-e6f2-4a83-98cf-c3de2bc5ce6d\">\n",
       "    <div class=\"colab-df-container\">\n",
       "      <div>\n",
       "<style scoped>\n",
       "    .dataframe tbody tr th:only-of-type {\n",
       "        vertical-align: middle;\n",
       "    }\n",
       "\n",
       "    .dataframe tbody tr th {\n",
       "        vertical-align: top;\n",
       "    }\n",
       "\n",
       "    .dataframe thead th {\n",
       "        text-align: right;\n",
       "    }\n",
       "</style>\n",
       "<table border=\"1\" class=\"dataframe\">\n",
       "  <thead>\n",
       "    <tr style=\"text-align: right;\">\n",
       "      <th></th>\n",
       "      <th>Gender_M</th>\n",
       "      <th>Mode_of_Shipment_Flight</th>\n",
       "      <th>Gender_F</th>\n",
       "      <th>Mode_of_Shipment_Road</th>\n",
       "      <th>Mode_of_Shipment_Ship</th>\n",
       "    </tr>\n",
       "  </thead>\n",
       "  <tbody>\n",
       "    <tr>\n",
       "      <th>0</th>\n",
       "      <td>44.0</td>\n",
       "      <td>3.0</td>\n",
       "      <td>1233.0</td>\n",
       "      <td>177.0</td>\n",
       "      <td>2.0</td>\n",
       "    </tr>\n",
       "    <tr>\n",
       "      <th>1</th>\n",
       "      <td>59.0</td>\n",
       "      <td>2.0</td>\n",
       "      <td>3088.0</td>\n",
       "      <td>216.0</td>\n",
       "      <td>5.0</td>\n",
       "    </tr>\n",
       "    <tr>\n",
       "      <th>2</th>\n",
       "      <td>10.0</td>\n",
       "      <td>4.0</td>\n",
       "      <td>1177.0</td>\n",
       "      <td>176.0</td>\n",
       "      <td>3.0</td>\n",
       "    </tr>\n",
       "    <tr>\n",
       "      <th>3</th>\n",
       "      <td>46.0</td>\n",
       "      <td>3.0</td>\n",
       "      <td>2484.0</td>\n",
       "      <td>184.0</td>\n",
       "      <td>2.0</td>\n",
       "    </tr>\n",
       "    <tr>\n",
       "      <th>4</th>\n",
       "      <td>12.0</td>\n",
       "      <td>3.0</td>\n",
       "      <td>1417.0</td>\n",
       "      <td>162.0</td>\n",
       "      <td>1.0</td>\n",
       "    </tr>\n",
       "  </tbody>\n",
       "</table>\n",
       "</div>\n",
       "      <button class=\"colab-df-convert\" onclick=\"convertToInteractive('df-d8e3b77f-e6f2-4a83-98cf-c3de2bc5ce6d')\"\n",
       "              title=\"Convert this dataframe to an interactive table.\"\n",
       "              style=\"display:none;\">\n",
       "        \n",
       "  <svg xmlns=\"http://www.w3.org/2000/svg\" height=\"24px\"viewBox=\"0 0 24 24\"\n",
       "       width=\"24px\">\n",
       "    <path d=\"M0 0h24v24H0V0z\" fill=\"none\"/>\n",
       "    <path d=\"M18.56 5.44l.94 2.06.94-2.06 2.06-.94-2.06-.94-.94-2.06-.94 2.06-2.06.94zm-11 1L8.5 8.5l.94-2.06 2.06-.94-2.06-.94L8.5 2.5l-.94 2.06-2.06.94zm10 10l.94 2.06.94-2.06 2.06-.94-2.06-.94-.94-2.06-.94 2.06-2.06.94z\"/><path d=\"M17.41 7.96l-1.37-1.37c-.4-.4-.92-.59-1.43-.59-.52 0-1.04.2-1.43.59L10.3 9.45l-7.72 7.72c-.78.78-.78 2.05 0 2.83L4 21.41c.39.39.9.59 1.41.59.51 0 1.02-.2 1.41-.59l7.78-7.78 2.81-2.81c.8-.78.8-2.07 0-2.86zM5.41 20L4 18.59l7.72-7.72 1.47 1.35L5.41 20z\"/>\n",
       "  </svg>\n",
       "      </button>\n",
       "      \n",
       "  <style>\n",
       "    .colab-df-container {\n",
       "      display:flex;\n",
       "      flex-wrap:wrap;\n",
       "      gap: 12px;\n",
       "    }\n",
       "\n",
       "    .colab-df-convert {\n",
       "      background-color: #E8F0FE;\n",
       "      border: none;\n",
       "      border-radius: 50%;\n",
       "      cursor: pointer;\n",
       "      display: none;\n",
       "      fill: #1967D2;\n",
       "      height: 32px;\n",
       "      padding: 0 0 0 0;\n",
       "      width: 32px;\n",
       "    }\n",
       "\n",
       "    .colab-df-convert:hover {\n",
       "      background-color: #E2EBFA;\n",
       "      box-shadow: 0px 1px 2px rgba(60, 64, 67, 0.3), 0px 1px 3px 1px rgba(60, 64, 67, 0.15);\n",
       "      fill: #174EA6;\n",
       "    }\n",
       "\n",
       "    [theme=dark] .colab-df-convert {\n",
       "      background-color: #3B4455;\n",
       "      fill: #D2E3FC;\n",
       "    }\n",
       "\n",
       "    [theme=dark] .colab-df-convert:hover {\n",
       "      background-color: #434B5C;\n",
       "      box-shadow: 0px 1px 3px 1px rgba(0, 0, 0, 0.15);\n",
       "      filter: drop-shadow(0px 1px 2px rgba(0, 0, 0, 0.3));\n",
       "      fill: #FFFFFF;\n",
       "    }\n",
       "  </style>\n",
       "\n",
       "      <script>\n",
       "        const buttonEl =\n",
       "          document.querySelector('#df-d8e3b77f-e6f2-4a83-98cf-c3de2bc5ce6d button.colab-df-convert');\n",
       "        buttonEl.style.display =\n",
       "          google.colab.kernel.accessAllowed ? 'block' : 'none';\n",
       "\n",
       "        async function convertToInteractive(key) {\n",
       "          const element = document.querySelector('#df-d8e3b77f-e6f2-4a83-98cf-c3de2bc5ce6d');\n",
       "          const dataTable =\n",
       "            await google.colab.kernel.invokeFunction('convertToInteractive',\n",
       "                                                     [key], {});\n",
       "          if (!dataTable) return;\n",
       "\n",
       "          const docLinkHtml = 'Like what you see? Visit the ' +\n",
       "            '<a target=\"_blank\" href=https://colab.research.google.com/notebooks/data_table.ipynb>data table notebook</a>'\n",
       "            + ' to learn more about interactive tables.';\n",
       "          element.innerHTML = '';\n",
       "          dataTable['output_type'] = 'display_data';\n",
       "          await google.colab.output.renderOutput(dataTable, element);\n",
       "          const docLink = document.createElement('div');\n",
       "          docLink.innerHTML = docLinkHtml;\n",
       "          element.appendChild(docLink);\n",
       "        }\n",
       "      </script>\n",
       "    </div>\n",
       "  </div>\n",
       "  "
      ],
      "text/plain": [
       "   Gender_M  Mode_of_Shipment_Flight  Gender_F  Mode_of_Shipment_Road  \\\n",
       "0      44.0                      3.0    1233.0                  177.0   \n",
       "1      59.0                      2.0    3088.0                  216.0   \n",
       "2      10.0                      4.0    1177.0                  176.0   \n",
       "3      46.0                      3.0    2484.0                  184.0   \n",
       "4      12.0                      3.0    1417.0                  162.0   \n",
       "\n",
       "   Mode_of_Shipment_Ship  \n",
       "0                    2.0  \n",
       "1                    5.0  \n",
       "2                    3.0  \n",
       "3                    2.0  \n",
       "4                    1.0  "
      ]
     },
     "execution_count": 41,
     "metadata": {},
     "output_type": "execute_result"
    }
   ],
   "source": [
    "features_top = list(feats)[:5]\n",
    "X_dev_new = X_dev_new = pd.DataFrame(X_dev, columns = feature_names)\n",
    "X_dev_new = X_dev_new[features_top]\n",
    "X_dev_new.head()"
   ]
  },
  {
   "cell_type": "code",
   "execution_count": null,
   "metadata": {
    "id": "W-gIAodFLh1J"
   },
   "outputs": [],
   "source": [
    "X_dev_new = X_dev_new.to_numpy()"
   ]
  },
  {
   "cell_type": "code",
   "execution_count": null,
   "metadata": {
    "colab": {
     "base_uri": "https://localhost:8080/"
    },
    "id": "0XpBiJ7cLh1J",
    "outputId": "b2d5f4ee-f2db-4387-da77-f49b34ff1fd2"
   },
   "outputs": [
    {
     "name": "stdout",
     "output_type": "stream",
     "text": [
      "cost:23.20161510s\n"
     ]
    }
   ],
   "source": [
    "t = time.time()\n",
    "param = {'learning_rate':[0.05, 0.01, 0.005], \n",
    "               'n_estimators':[20, 30, 40], \n",
    "               'max_depth':[3, 6, 9]}\n",
    "clf_xgb_new = make_pipeline(GridSearchCV(estimator = XGBClassifier(random_state=10), \n",
    "                           param_grid = param,\n",
    "                           cv=StratifiedKFold(n_splits=5, shuffle=False)))\n",
    "clf_xgb_new.fit(X_dev_new,y_dev)\n",
    "print(f'cost:{time.time()-t:.8f}s')"
   ]
  },
  {
   "cell_type": "code",
   "execution_count": null,
   "metadata": {
    "colab": {
     "base_uri": "https://localhost:8080/"
    },
    "id": "AKq3DIKKLh1J",
    "outputId": "37fdd398-ce81-4a40-c2da-59fccd320b7d"
   },
   "outputs": [
    {
     "name": "stdout",
     "output_type": "stream",
     "text": [
      "best hyperparameters: {'learning_rate': 0.01, 'max_depth': 3, 'n_estimators': 30}\n",
      "best scores: 0.6140230115251434\n"
     ]
    }
   ],
   "source": [
    "print(\"best hyperparameters:\", clf_xgb_new[\"gridsearchcv\"].best_params_)\n",
    "print(\"best scores:\", clf_xgb_new[\"gridsearchcv\"].best_score_)"
   ]
  },
  {
   "cell_type": "code",
   "execution_count": null,
   "metadata": {
    "colab": {
     "base_uri": "https://localhost:8080/"
    },
    "id": "je3myQ22Lh1J",
    "outputId": "7e42e864-2f03-461a-c9aa-09c35168e6c1"
   },
   "outputs": [
    {
     "name": "stdout",
     "output_type": "stream",
     "text": [
      "Accuracy for XGBoost on testing data with best hyperparameters: 0.6845454545454546\n"
     ]
    }
   ],
   "source": [
    "clf_xgb_new_best = XGBClassifier(learning_rate = clf_xgb_new[\"gridsearchcv\"].best_params_[\"learning_rate\"], \n",
    "                                         max_depth = clf_xgb_new[\"gridsearchcv\"].best_params_[\"max_depth\"], \n",
    "                                         n_estimators = clf_xgb_new[\"gridsearchcv\"].best_params_[\"n_estimators\"],\n",
    "                                         random_state=10)\n",
    "clf_xgb_new_best.fit(X_dev, y_dev)\n",
    "y_pred = clf_xgb_new_best.predict(X_test)\n",
    "score_xgb_new = accuracy_score(y_test, y_pred)\n",
    "print(\"Accuracy for XGBoost on testing data with best hyperparameters:\", score_xgb_new)"
   ]
  },
  {
   "cell_type": "markdown",
   "metadata": {
    "id": "DsYGKCm916V9"
   },
   "source": [
    "The performance of these two models are similar, cause the features other than the top five don't play a big role in this model"
   ]
  },
  {
   "cell_type": "markdown",
   "metadata": {
    "id": "Z6X1i5-OH1dj"
   },
   "source": [
    "## Question 4: Calibration"
   ]
  },
  {
   "cell_type": "markdown",
   "metadata": {
    "id": "dzrqP5IEH4r8"
   },
   "source": [
    "**4.1: Estimate the brier score for the HistGradientBoosting model (trained with optimal hyperparameters from Q3.2) scored on the test dataset.**"
   ]
  },
  {
   "cell_type": "code",
   "execution_count": null,
   "metadata": {
    "id": "np19Far5dyLV"
   },
   "outputs": [],
   "source": [
    "X_train, X_calib, y_train, y_calib = train_test_split(X_dev_before_transform, y_dev, test_size = 0.20, random_state = 0)"
   ]
  },
  {
   "cell_type": "code",
   "execution_count": null,
   "metadata": {
    "colab": {
     "base_uri": "https://localhost:8080/"
    },
    "id": "jforBd6_SAZh",
    "outputId": "78da3405-69de-4b3c-b83c-406c9f4e7cc2"
   },
   "outputs": [
    {
     "data": {
      "text/plain": [
       "Pipeline(steps=[('columntransformer',\n",
       "                 ColumnTransformer(remainder='passthrough',\n",
       "                                   transformers=[('onehotencoder',\n",
       "                                                  OneHotEncoder(),\n",
       "                                                  ['Mode_of_Shipment',\n",
       "                                                   'Warehouse_block',\n",
       "                                                   'Product_importance',\n",
       "                                                   'Gender'])])),\n",
       "                ('histgradientboostingclassifier',\n",
       "                 HistGradientBoostingClassifier(l2_regularization=0.001,\n",
       "                                                max_depth=6,\n",
       "                                                random_state=10))])"
      ]
     },
     "execution_count": 47,
     "metadata": {},
     "output_type": "execute_result"
    }
   ],
   "source": [
    "clf_hgb_baseline = make_pipeline(preprocess,\n",
    "                                 HistGradientBoostingClassifier(learning_rate = clf_hgb[\"gridsearchcv\"].best_params_[\"learning_rate\"], \n",
    "                                         max_depth = clf_hgb[\"gridsearchcv\"].best_params_[\"max_depth\"], \n",
    "                                         l2_regularization = clf_hgb[\"gridsearchcv\"].best_params_['l2_regularization'],\n",
    "                                         random_state=10))\n",
    "clf_hgb_baseline.fit(X_train, y_train)"
   ]
  },
  {
   "cell_type": "code",
   "execution_count": null,
   "metadata": {
    "colab": {
     "base_uri": "https://localhost:8080/"
    },
    "id": "HUtikJihHw0V",
    "outputId": "b5db9c52-164d-482b-bf6a-5092d0c31813"
   },
   "outputs": [
    {
     "name": "stdout",
     "output_type": "stream",
     "text": [
      "brier score for the XGBoost Model: 0.18470610991356243\n"
     ]
    }
   ],
   "source": [
    "probs = clf_hgb_baseline.predict_proba(X_test_before_transform)[:, 1]\n",
    "loss_hgb = brier_score_loss(y_test, probs)\n",
    "print(\"brier score for the XGBoost Model:\", loss_hgb)"
   ]
  },
  {
   "cell_type": "markdown",
   "metadata": {
    "id": "FrwJNloIBlW3"
   },
   "source": [
    "**4.2: Calibrate the trained HistGradientBoosting model using Platt Scaling. Print the brier score after calibration and plot predicted v.s. actual on test datasets from the calibration method.**"
   ]
  },
  {
   "cell_type": "code",
   "execution_count": null,
   "metadata": {
    "colab": {
     "base_uri": "https://localhost:8080/",
     "height": 279
    },
    "id": "_RaBtEVBeqrx",
    "outputId": "5320212e-fc3c-40aa-e1b7-3d7fbe2eaae7"
   },
   "outputs": [
    {
     "data": {
      "image/png": "[encoded data removed]",
      "text/plain": [
       "<Figure size 432x288 with 1 Axes>"
      ]
     },
     "metadata": {
      "needs_background": "light"
     },
     "output_type": "display_data"
    }
   ],
   "source": [
    "clf_hgb_platt = CalibratedClassifierCV(clf_hgb_baseline, cv=\"prefit\", method=\"sigmoid\")\n",
    "clf_hgb_platt.fit(X_calib, y_calib)\n",
    "display = CalibrationDisplay.from_estimator(\n",
    "    clf_hgb_platt, X_test_before_transform, y_test, n_bins=10, name = \"Calibrated HistGradientBoost with Platt Scaling\"\n",
    ")"
   ]
  },
  {
   "cell_type": "code",
   "execution_count": null,
   "metadata": {
    "colab": {
     "base_uri": "https://localhost:8080/"
    },
    "id": "uLxV9uwNevn6",
    "outputId": "88cacb73-7cd8-44d8-fde9-2c6e5452cc44"
   },
   "outputs": [
    {
     "name": "stdout",
     "output_type": "stream",
     "text": [
      "brier score for the XGBoost Model with platt scaling: 0.18131611854078192\n"
     ]
    }
   ],
   "source": [
    "probs = clf_hgb_platt.predict_proba(X_test_before_transform)[:,1]\n",
    "loss_hgb_platt = brier_score_loss(y_test, probs)\n",
    "print(\"brier score for the XGBoost Model with platt scaling:\", loss_hgb_platt)"
   ]
  },
  {
   "cell_type": "markdown",
   "metadata": {
    "id": "IfBTkjtoIKfP"
   },
   "source": [
    "**4.3: Compare the brier scores from 4.1 and 4.2. Do the calibration methods help in having better predicted probabilities?**"
   ]
  },
  {
   "cell_type": "code",
   "execution_count": null,
   "metadata": {
    "colab": {
     "base_uri": "https://localhost:8080/",
     "height": 281
    },
    "id": "tn4b3XHAICk4",
    "outputId": "f0692509-44e9-4904-c3d6-a5ebcc85eee0"
   },
   "outputs": [
    {
     "data": {
      "image/png": "[encoded data removed]",
      "text/plain": [
       "<Figure size 432x288 with 1 Axes>"
      ]
     },
     "metadata": {
      "needs_background": "light"
     },
     "output_type": "display_data"
    }
   ],
   "source": [
    "plt.bar(x = [\"HGB\", \"HGB with platt\"], height = [loss_hgb, loss_hgb_platt])\n",
    "plt.ylim(0.1, 0.20)\n",
    "plt.title(\"Brier scores\")\n",
    "plt.show()"
   ]
  },
  {
   "cell_type": "markdown",
   "metadata": {
    "id": "_xOfNJV9sycs"
   },
   "source": [
    "Calibration method do slightly help in having better predicted probabilities in this question."
   ]
  }
 ],
 "metadata": {
  "colab": {
   "provenance": []
  },
  "kernelspec": {
   "display_name": "Python 3 (ipykernel)",
   "language": "python",
   "name": "python3"
  },
  "language_info": {
   "codemirror_mode": {
    "name": "ipython",
    "version": 3
   },
   "file_extension": ".py",
   "mimetype": "text/x-python",
   "name": "python",
   "nbconvert_exporter": "python",
   "pygments_lexer": "ipython3",
   "version": "3.9.13"
  }
 },
 "nbformat": 4,
 "nbformat_minor": 1
}
